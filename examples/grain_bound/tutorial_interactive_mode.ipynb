{
 "cells": [
  {
   "cell_type": "code",
   "execution_count": 1,
   "metadata": {
    "ExecuteTime": {
     "end_time": "2020-12-04T07:10:48.008696Z",
     "start_time": "2020-12-04T07:10:47.518744Z"
    }
   },
   "outputs": [],
   "source": [
    "import numpy as np\n",
    "import physbo\n",
    "import matplotlib.pyplot as plt\n",
    "%matplotlib inline"
   ]
  },
  {
   "cell_type": "code",
   "execution_count": 2,
   "metadata": {
    "ExecuteTime": {
     "end_time": "2020-12-04T07:10:48.013271Z",
     "start_time": "2020-12-04T07:10:48.010067Z"
    }
   },
   "outputs": [],
   "source": [
    "def load_data():\n",
    "    A =  np.asarray( np.loadtxt('data/s5-210.csv',skiprows=1,delimiter=',') )\n",
    "    X = A[:,0:3]\n",
    "    t  = -A[:,3]\n",
    "    return X, t"
   ]
  },
  {
   "cell_type": "code",
   "execution_count": 3,
   "metadata": {
    "ExecuteTime": {
     "end_time": "2020-12-04T07:10:48.139141Z",
     "start_time": "2020-12-04T07:10:48.023257Z"
    }
   },
   "outputs": [],
   "source": [
    "# Load the data  \n",
    "# X is the N x d dimensional matrix. Each row of X denotes the d-dimensional feature vector of search candidate. \n",
    "# t is the N-dimensional vector that represents the corresponding negative energy of search candidates. \n",
    "# ( It is of course unknown in practice. )\n",
    "X, t = load_data()\n",
    " \n",
    "# Normalize the mean and standard deviation along the each column of X to 0 and 1, respectively\n",
    "X = physbo.misc.centering( X )"
   ]
  },
  {
   "cell_type": "code",
   "execution_count": 4,
   "metadata": {
    "ExecuteTime": {
     "end_time": "2020-12-04T07:10:48.142817Z",
     "start_time": "2020-12-04T07:10:48.140404Z"
    }
   },
   "outputs": [],
   "source": [
    "# Declare the class for calling the simulator. \n",
    "# In this tutorial, we simply refer to the value of t. \n",
    "# If you want to apply physbo to other problems, you have to customize this class. \n",
    "class simulator:\n",
    "    def __init__( self ):\n",
    "        _, self.t = load_data()\n",
    "    \n",
    "    def __call__( self, action ):\n",
    "        return self.t[action]"
   ]
  },
  {
   "cell_type": "code",
   "execution_count": 5,
   "metadata": {
    "ExecuteTime": {
     "end_time": "2020-12-04T07:10:48.150038Z",
     "start_time": "2020-12-04T07:10:48.145149Z"
    }
   },
   "outputs": [],
   "source": [
    "# Design of policy\n",
    "\n",
    "# Declaring the policy by \n",
    "policy = physbo.search.discrete.policy(test_X=X)\n",
    "# test_X is the set of candidates which is represented by numpy.array.\n",
    "# Each row vector represents the feature vector of the corresponding candidate\n",
    "\n",
    "# set the seed parameter \n",
    "policy.set_seed( 0 )"
   ]
  },
  {
   "cell_type": "code",
   "execution_count": 6,
   "metadata": {
    "ExecuteTime": {
     "end_time": "2020-12-04T07:11:14.130481Z",
     "start_time": "2020-12-04T07:10:48.151761Z"
    }
   },
   "outputs": [
    {
     "name": "stdout",
     "output_type": "stream",
     "text": [
      "interactive mode stars ... \n",
      " \n",
      "0001-th multiple probe search (random) \n",
      "\n",
      "current best f(x) = -0.980054 (best action = 4547) \n",
      "list of simulation results\n",
      "f(x)=-1.070602 (action = 15673)\n",
      "f(x)=-1.009056 (action = 9559)\n",
      "f(x)=-1.195844 (action = 16927)\n",
      "f(x)=-0.980054 (action = 4547)\n",
      "f(x)=-0.992820 (action = 2553)\n",
      "f(x)=-1.146676 (action = 13144)\n",
      "f(x)=-1.006255 (action = 10827)\n",
      "f(x)=-0.999862 (action = 1995)\n",
      "f(x)=-1.055445 (action = 10763)\n",
      "f(x)=-1.100970 (action = 16450)\n",
      "\n",
      "\n",
      "0002-th multiple probe search (random) \n",
      "\n",
      "current best f(x) = -0.980054 (best action = 4547) \n",
      "list of simulation results\n",
      "f(x)=-1.208666 (action = 13085)\n",
      "f(x)=-1.069404 (action = 15133)\n",
      "f(x)=-1.031642 (action = 1706)\n",
      "f(x)=-1.016702 (action = 2464)\n",
      "f(x)=-1.172569 (action = 17812)\n",
      "f(x)=-1.082219 (action = 16533)\n",
      "f(x)=-1.025272 (action = 1336)\n",
      "f(x)=-1.031761 (action = 10076)\n",
      "f(x)=-0.984972 (action = 8876)\n",
      "f(x)=-1.107730 (action = 15577)\n",
      "\n",
      "\n",
      "Start the initial hyper parameter searching ...\n",
      "Done\n",
      "\n",
      "Start the hyper parameter learning ...\n",
      "0 -th epoch marginal likelihood -22.839738479789983\n",
      "50 -th epoch marginal likelihood -24.177617139908286\n",
      "100 -th epoch marginal likelihood -24.831018285821862\n",
      "150 -th epoch marginal likelihood -25.15416148652374\n",
      "200 -th epoch marginal likelihood -25.334465627988664\n",
      "250 -th epoch marginal likelihood -25.455155010625028\n",
      "300 -th epoch marginal likelihood -25.550091453614577\n",
      "350 -th epoch marginal likelihood -25.631301279338544\n",
      "400 -th epoch marginal likelihood -25.702387457449046\n",
      "450 -th epoch marginal likelihood -25.76434767734444\n",
      "500 -th epoch marginal likelihood -25.81769784480629\n",
      "Done\n",
      "\n",
      "0003-th multiple probe search (EI) \n",
      "\n",
      "current best f(x) = -0.961238 (best action = 7714) \n",
      "list of simulation results\n",
      "f(x)=-1.080313 (action = 8128)\n",
      "f(x)=-0.961238 (action = 7714)\n",
      "f(x)=-1.087480 (action = 11460)\n",
      "f(x)=-1.069888 (action = 6744)\n",
      "f(x)=-1.015223 (action = 5474)\n",
      "f(x)=-1.044681 (action = 4575)\n",
      "f(x)=-1.045041 (action = 1216)\n",
      "f(x)=-1.019301 (action = 11987)\n",
      "f(x)=-1.018695 (action = 8534)\n",
      "f(x)=-1.011622 (action = 8978)\n",
      "\n",
      "\n",
      "Start the initial hyper parameter searching ...\n",
      "Done\n",
      "\n",
      "Start the hyper parameter learning ...\n",
      "0 -th epoch marginal likelihood -22.83068372994972\n",
      "50 -th epoch marginal likelihood -29.930592021451673\n",
      "100 -th epoch marginal likelihood -34.0014027687285\n",
      "150 -th epoch marginal likelihood -36.37252323280583\n",
      "200 -th epoch marginal likelihood -37.8165565586274\n",
      "250 -th epoch marginal likelihood -38.73791882023154\n",
      "300 -th epoch marginal likelihood -39.35750422786096\n",
      "350 -th epoch marginal likelihood -39.79993160335946\n",
      "400 -th epoch marginal likelihood -40.136814747888955\n",
      "450 -th epoch marginal likelihood -40.40952421516834\n",
      "500 -th epoch marginal likelihood -40.6417863314439\n",
      "Done\n",
      "\n",
      "0004-th multiple probe search (EI) \n",
      "\n",
      "current best f(x) = -0.961238 (best action = 7714) \n",
      "list of simulation results\n",
      "f(x)=-1.024857 (action = 8081)\n",
      "f(x)=-0.981547 (action = 7417)\n",
      "f(x)=-0.979102 (action = 10894)\n",
      "f(x)=-0.992155 (action = 5602)\n",
      "f(x)=-1.120853 (action = 5911)\n",
      "f(x)=-0.984584 (action = 7177)\n",
      "f(x)=-0.977653 (action = 5828)\n",
      "f(x)=-1.133161 (action = 2858)\n",
      "f(x)=-0.977821 (action = 4143)\n",
      "f(x)=-1.001606 (action = 7709)\n",
      "\n",
      "\n",
      "Start the initial hyper parameter searching ...\n",
      "Done\n",
      "\n",
      "Start the hyper parameter learning ...\n",
      "0 -th epoch marginal likelihood -6.93369457243665\n",
      "50 -th epoch marginal likelihood -24.494730014486493\n",
      "100 -th epoch marginal likelihood -35.10125895344488\n",
      "150 -th epoch marginal likelihood -41.63762854479037\n",
      "200 -th epoch marginal likelihood -45.82255614070174\n",
      "250 -th epoch marginal likelihood -48.58844949787664\n",
      "300 -th epoch marginal likelihood -50.468328403667726\n",
      "350 -th epoch marginal likelihood -51.78072861326838\n",
      "400 -th epoch marginal likelihood -52.722775796446584\n",
      "450 -th epoch marginal likelihood -53.41983031268913\n",
      "500 -th epoch marginal likelihood -53.95328036409347\n",
      "Done\n",
      "\n",
      "0005-th multiple probe search (EI) \n",
      "\n",
      "current best f(x) = -0.958539 (best action = 8657) \n",
      "list of simulation results\n",
      "f(x)=-0.967243 (action = 4624)\n",
      "f(x)=-0.981535 (action = 10674)\n",
      "f(x)=-0.961792 (action = 8934)\n",
      "f(x)=-1.304536 (action = 12001)\n",
      "f(x)=-0.958539 (action = 8657)\n",
      "f(x)=-0.975559 (action = 5291)\n",
      "f(x)=-1.314750 (action = 15000)\n",
      "f(x)=-0.960125 (action = 6252)\n",
      "f(x)=-1.115409 (action = 8999)\n",
      "f(x)=-1.212224 (action = 9008)\n",
      "\n",
      "\n",
      "Start the initial hyper parameter searching ...\n",
      "Done\n",
      "\n",
      "Start the hyper parameter learning ...\n",
      "0 -th epoch marginal likelihood -30.47082383515594\n",
      "50 -th epoch marginal likelihood -43.95114660997166\n",
      "100 -th epoch marginal likelihood -51.60637975418708\n",
      "150 -th epoch marginal likelihood -56.014402732534194\n",
      "200 -th epoch marginal likelihood -58.633150797507454\n",
      "250 -th epoch marginal likelihood -60.246791899714324\n",
      "300 -th epoch marginal likelihood -61.289716770582245\n",
      "350 -th epoch marginal likelihood -62.007298507681945\n",
      "400 -th epoch marginal likelihood -62.53906467237933\n",
      "450 -th epoch marginal likelihood -62.96389420878681\n",
      "500 -th epoch marginal likelihood -63.32555141767383\n",
      "Done\n",
      "\n",
      "0006-th multiple probe search (EI) \n",
      "\n",
      "current best f(x) = -0.958539 (best action = 8657) \n",
      "list of simulation results\n",
      "f(x)=-0.974201 (action = 3144)\n",
      "f(x)=-1.031994 (action = 9027)\n",
      "f(x)=-0.996815 (action = 8990)\n",
      "f(x)=-0.996779 (action = 8954)\n",
      "f(x)=-1.064053 (action = 6544)\n",
      "f(x)=-0.974873 (action = 4662)\n",
      "f(x)=-1.588623 (action = 3028)\n",
      "f(x)=-0.991675 (action = 5957)\n",
      "f(x)=-0.997933 (action = 1718)\n",
      "f(x)=-1.157997 (action = 3358)\n",
      "\n",
      "\n"
     ]
    }
   ],
   "source": [
    "# How to use the interactive mode \n",
    "simulator = simulator()\n",
    "\n",
    "''' 1st step (random sampling) '''\n",
    "actions = policy.random_search(max_num_probes=1, num_search_each_probe=10, simulator=None)\n",
    "t  = simulator(actions)\n",
    "policy.write(actions, t)\n",
    "physbo.search.utility.show_search_results(policy.history, 10)\n",
    "\n",
    "''' 2nd step (random sampling) '''\n",
    "actions = policy.random_search(max_num_probes=1, num_search_each_probe=10, simulator=None)\n",
    "t = simulator(actions)\n",
    "policy.write(actions, t)\n",
    "physbo.search.utility.show_search_results(policy.history, 10)\n",
    "\n",
    "''' 3rd step (bayesian optimization) '''\n",
    "actions = policy.bayes_search(max_num_probes=1, num_search_each_probe=10, \n",
    "                                                      simulator=None, score='EI', interval=0,  num_rand_basis = 0)\n",
    "t = simulator(actions)   # experiment\n",
    "policy.write(actions, t) # record new observations\n",
    "physbo.search.utility.show_search_results(policy.history, 10)  # describe search results\n",
    "\n",
    "predictor = policy.predictor\n",
    "training = policy.training\n",
    "\n",
    "actions = policy.bayes_search(max_num_probes=1, num_search_each_probe=10, \n",
    "                                                      predictor=predictor, training=training,\n",
    "                                                      simulator=None, score='EI', interval=0,  num_rand_basis = 0)\n",
    "t = simulator(actions)   # experiment\n",
    "policy.write(actions, t) # record new observations\n",
    "physbo.search.utility.show_search_results(policy.history, 10)  # describe search results\n",
    "\n",
    "\n",
    "\n",
    "''' 4-th step (bayesian optimization) '''\n",
    "actions = policy.bayes_search(max_num_probes=1, num_search_each_probe=10, \n",
    "                                                      simulator=None, score='EI', interval=0,  num_rand_basis = 0)\n",
    "t = simulator(actions)   # experiment\n",
    "policy.write(actions, t) # record new observations\n",
    "physbo.search.utility.show_search_results(policy.history, 10)  # describe search results\n",
    "\n",
    "predictor = policy.predictor\n",
    "training = policy.training\n",
    "\n",
    "actions = policy.bayes_search(max_num_probes=1, num_search_each_probe=10, \n",
    "                                                      predictor=predictor, training=training,\n",
    "                                                      simulator=None, score='EI', interval=0,  num_rand_basis = 0)\n",
    "t = simulator(actions)   # experiment\n",
    "policy.write(actions, t) # record new observations\n",
    "physbo.search.utility.show_search_results(policy.history, 10)  # describe search results"
   ]
  },
  {
   "cell_type": "code",
   "execution_count": 7,
   "metadata": {
    "ExecuteTime": {
     "end_time": "2020-12-04T07:11:14.156667Z",
     "start_time": "2020-12-04T07:11:14.132273Z"
    }
   },
   "outputs": [],
   "source": [
    "policy.save(file_predictor='predictor.dump', file_training='training.npz', file_history='history.npz')"
   ]
  },
  {
   "cell_type": "code",
   "execution_count": 8,
   "metadata": {
    "ExecuteTime": {
     "end_time": "2020-12-04T07:11:23.546513Z",
     "start_time": "2020-12-04T07:11:14.159982Z"
    }
   },
   "outputs": [
    {
     "name": "stdout",
     "output_type": "stream",
     "text": [
      "Start the initial hyper parameter searching ...\n",
      "Done\n",
      "\n",
      "Start the hyper parameter learning ...\n",
      "0 -th epoch marginal likelihood 102.79234416128759\n",
      "50 -th epoch marginal likelihood 59.46342203323704\n",
      "100 -th epoch marginal likelihood 30.31762172369963\n",
      "150 -th epoch marginal likelihood 10.5146074126326\n",
      "200 -th epoch marginal likelihood -3.2736730608166056\n",
      "250 -th epoch marginal likelihood -13.082561478601065\n",
      "300 -th epoch marginal likelihood -20.188910676268563\n",
      "350 -th epoch marginal likelihood -25.417528243407048\n",
      "400 -th epoch marginal likelihood -29.315852863500695\n",
      "450 -th epoch marginal likelihood -32.256081675862205\n",
      "500 -th epoch marginal likelihood -34.49663444237708\n",
      "Done\n",
      "\n",
      "0007-th multiple probe search (EI) \n",
      "\n",
      "current best f(x) = -0.958539 (best action = 8657) \n",
      "list of simulation results\n",
      "f(x)=-1.023136 (action = 3551)\n",
      "f(x)=-1.015942 (action = 3797)\n",
      "f(x)=-1.005346 (action = 687)\n",
      "f(x)=-0.996667 (action = 517)\n",
      "f(x)=-1.101119 (action = 3874)\n",
      "f(x)=-0.969981 (action = 3646)\n",
      "f(x)=-0.990435 (action = 536)\n",
      "f(x)=-1.010393 (action = 3588)\n",
      "f(x)=-1.078684 (action = 765)\n",
      "f(x)=-1.074801 (action = 3873)\n",
      "\n",
      "\n"
     ]
    }
   ],
   "source": [
    "''' delete policy'''\n",
    "del policy\n",
    "\n",
    "policy = physbo.search.discrete.policy(test_X=X)\n",
    "policy.load(file_predictor='predictor.dump', file_training='training.npz', file_history='history.npz')\n",
    "\n",
    "''' 5-th probe (bayesian optimization) '''\n",
    "actions = policy.bayes_search(max_num_probes=1, num_search_each_probe=10, predictor=predictor, \n",
    "                                                      simulator=None, score='EI', interval=0,  num_rand_basis = 0)\n",
    "t = simulator(actions)   # experiment\n",
    "policy.write(actions, t) # record new observations\n",
    "physbo.search.utility.show_search_results(policy.history, 10)  # describe search result\n"
   ]
  },
  {
   "cell_type": "code",
   "execution_count": 9,
   "metadata": {
    "ExecuteTime": {
     "end_time": "2020-12-04T07:11:23.549774Z",
     "start_time": "2020-12-04T07:11:23.547897Z"
    }
   },
   "outputs": [],
   "source": [
    "res=policy.history"
   ]
  },
  {
   "cell_type": "code",
   "execution_count": 10,
   "metadata": {
    "ExecuteTime": {
     "end_time": "2020-12-04T07:11:23.767977Z",
     "start_time": "2020-12-04T07:11:23.551525Z"
    }
   },
   "outputs": [
    {
     "data": {
      "text/plain": [
       "[<matplotlib.lines.Line2D at 0x7f81a0bbed60>]"
      ]
     },
     "execution_count": 10,
     "metadata": {},
     "output_type": "execute_result"
    },
    {
     "data": {
      "image/png": "[encoded data removed]",
      "text/plain": [
       "<Figure size 432x288 with 1 Axes>"
      ]
     },
     "metadata": {
      "needs_background": "light"
     },
     "output_type": "display_data"
    }
   ],
   "source": [
    "plt.plot(res.fx[0:res.total_num_search])"
   ]
  },
  {
   "cell_type": "code",
   "execution_count": null,
   "metadata": {},
   "outputs": [],
   "source": []
  }
 ],
 "metadata": {
  "kernelspec": {
   "display_name": "Python 3",
   "language": "python",
   "name": "python3"
  },
  "language_info": {
   "codemirror_mode": {
    "name": "ipython",
    "version": 3
   },
   "file_extension": ".py",
   "mimetype": "text/x-python",
   "name": "python",
   "nbconvert_exporter": "python",
   "pygments_lexer": "ipython3",
   "version": "3.8.5"
  }
 },
 "nbformat": 4,
 "nbformat_minor": 1
}
