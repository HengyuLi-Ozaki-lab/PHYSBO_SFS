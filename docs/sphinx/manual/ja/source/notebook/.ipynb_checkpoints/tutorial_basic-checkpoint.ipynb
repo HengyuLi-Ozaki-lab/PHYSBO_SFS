{
 "cells": [
  {
   "cell_type": "markdown",
   "metadata": {},
   "source": [
    "# PHYSBO の基本\n",
    "\n",
    "## はじめに\n",
    "\n",
    "\n",
    "本チュートリアルでは例として、Cu の安定した界面構造の探索問題を扱います。 目的関数の評価にあたる構造緩和計算には、実際には1回あたり数時間といったオーダーの時間を要しますが、本チュートリアルでは既に評価済みの値を使用します。問題設定については、以下の文献を参照してください。\n",
    "\n",
    "- S. Kiyohara, H. Oda, K. Tsuda and T. Mizoguchi, “Acceleration of stable interface structure searching using a kriging approach”, Jpn. J. Appl. Phys. 55, 045502 (2016).\n",
    "\n",
    "---\n",
    "\n",
    "それではサンプルデータを用いて、各手順を実際に行ってみましょう。\n",
    "\n",
    "はじめに、PHYSBO をインポートします。"
   ]
  },
  {
   "cell_type": "code",
   "execution_count": 1,
   "metadata": {},
   "outputs": [],
   "source": [
    "import physbo"
   ]
  },
  {
   "cell_type": "markdown",
   "metadata": {},
   "source": [
    "## 探索候補データの準備\n",
    "\n",
    "まず、以下を実行してサンプルデータをダウンロードしてください。"
   ]
  },
  {
   "cell_type": "code",
   "execution_count": 2,
   "metadata": {},
   "outputs": [],
   "source": [
    "import os\n",
    "import urllib2\n",
    "import ssl\n",
    "import numpy as np\n",
    "\n",
    "ssl._create_default_https_context = ssl._create_unverified_context\n",
    "\n",
    "def download():\n",
    "    if not os.path.exists('data/s5-210.csv'):\n",
    "\n",
    "        if not os.path.exists('data'):\n",
    "            os.mkdir('data')\n",
    "            \n",
    "        print('Downloading...')\n",
    "        response = urllib2.urlopen(\"http://www.tsudalab.org/files/s5-210.csv\")\n",
    "        with open('data/s5-210.csv', 'wb') as out_file:\n",
    "            out_file.write(response.read())\n",
    "        response.close()\n",
    "        print('Done')\n",
    "        \n",
    "def load_data():\n",
    "    download()\n",
    "    A =  np.asarray(np.loadtxt('data/s5-210.csv',skiprows=1, usecols=(3,4,5,6), delimiter=',') )\n",
    "    X = A[:,0:3]\n",
    "    t  = -A[:,3]\n",
    "    return X, t"
   ]
  },
  {
   "cell_type": "code",
   "execution_count": 3,
   "metadata": {},
   "outputs": [],
   "source": [
    "X, t = load_data()"
   ]
  },
  {
   "cell_type": "markdown",
   "metadata": {},
   "source": [
    "以下、N: 探索候補の数  , d: 入力パラメータの次元数  とします。\n",
    "\n",
    "X は N x d 次元の行列で、各行は探索候補である各パラメータセット (d 次元のベクトル) を表します。  \n",
    "t は N 次元のベクトルで、各探索候補の負のエネルギー(最適化したい目的関数の値) と対応します。  \n",
    "\n",
    "**PHYSBO では最適化の方向は「最大化」だと仮定します。**  \n",
    "\n",
    "元々の問題設定は「エネルギー最小化」ですが、PHYSBOで最適化を行うにあたって、目的関数値にマイナスを掛けて「負のエネルギーの最大化」問題として扱っています。\n",
    "\n",
    "t は実際には不明ですが、ここでは既に取得された値を利用します。  "
   ]
  },
  {
   "cell_type": "code",
   "execution_count": 4,
   "metadata": {},
   "outputs": [
    {
     "data": {
      "text/plain": [
       "array([[0. , 1. , 0. ],\n",
       "       [0. , 1. , 0.1],\n",
       "       [0. , 1. , 0.2],\n",
       "       ...,\n",
       "       [8. , 1.5, 3.4],\n",
       "       [8. , 1.5, 3.5],\n",
       "       [8. , 1.5, 3.6]])"
      ]
     },
     "execution_count": 4,
     "metadata": {},
     "output_type": "execute_result"
    }
   ],
   "source": [
    "X"
   ]
  },
  {
   "cell_type": "code",
   "execution_count": 5,
   "metadata": {},
   "outputs": [
    {
     "data": {
      "text/plain": [
       "array([-1.01301176, -1.01487066, -1.02044168, ..., -1.11680203,\n",
       "       -2.48876352, -2.4971452 ])"
      ]
     },
     "execution_count": 5,
     "metadata": {},
     "output_type": "execute_result"
    }
   ],
   "source": [
    "t"
   ]
  },
  {
   "cell_type": "markdown",
   "metadata": {},
   "source": [
    "探索パラメータのスケールを合わせるため、X の各列についてそれぞれ、平均が0, 分散が 1 となるよう標準化します。"
   ]
  },
  {
   "cell_type": "code",
   "execution_count": 6,
   "metadata": {},
   "outputs": [],
   "source": [
    "X = physbo.misc.centering( X )"
   ]
  },
  {
   "cell_type": "code",
   "execution_count": 7,
   "metadata": {},
   "outputs": [
    {
     "data": {
      "text/plain": [
       "array([[-1.71079785, -1.46385011, -1.68585446],\n",
       "       [-1.71079785, -1.46385011, -1.59219588],\n",
       "       [-1.71079785, -1.46385011, -1.4985373 ],\n",
       "       ...,\n",
       "       [ 1.71079785,  1.46385011,  1.4985373 ],\n",
       "       [ 1.71079785,  1.46385011,  1.59219588],\n",
       "       [ 1.71079785,  1.46385011,  1.68585446]])"
      ]
     },
     "execution_count": 7,
     "metadata": {},
     "output_type": "execute_result"
    }
   ],
   "source": [
    "X"
   ]
  },
  {
   "cell_type": "markdown",
   "metadata": {},
   "source": [
    "## simulator の定義\n",
    "\n",
    "PHYSBO に与える simulator クラスを定義します。  \n",
    "`__call__` メソッドの返り値が、action を与えたときの目的関数値となります。  \n",
    "action は探索候補の ID (0, 1, ..., N-1) を表します。\n",
    "\n",
    "本チュートリアルでは、action が与えられたときに、既に計算された t の値をそのまま返すだけの simulator を定義しています。  \n",
    "他の問題に適用する際は、simulator クラスをカスタマイズしてください。"
   ]
  },
  {
   "cell_type": "code",
   "execution_count": 8,
   "metadata": {},
   "outputs": [],
   "source": [
    "class simulator:\n",
    "    def __init__( self ):\n",
    "        _, self.t = load_data()\n",
    "    \n",
    "    def __call__( self, action ):\n",
    "        return self.t[action]"
   ]
  },
  {
   "cell_type": "markdown",
   "metadata": {},
   "source": [
    "## 最適化の実行"
   ]
  },
  {
   "cell_type": "markdown",
   "metadata": {},
   "source": [
    "### policy のセット\n",
    "\n",
    "まず、最適化の policy をセットします。  \n",
    "\n",
    "`test_X` に探索候補の行列 (numpy.array) を指定します。"
   ]
  },
  {
   "cell_type": "code",
   "execution_count": 9,
   "metadata": {},
   "outputs": [],
   "source": [
    "# policy のセット \n",
    "policy = physbo.search.discrete.policy(test_X=X)\n",
    "\n",
    "# シード値のセット \n",
    "policy.set_seed(0)"
   ]
  },
  {
   "cell_type": "markdown",
   "metadata": {},
   "source": [
    "policy をセットした段階では、まだ最適化は行われません。\n",
    "policy に対して以下のメソッドを実行することで、最適化を行います。\n",
    "\n",
    "- `random_search`  \n",
    "- `bayes_search`\n",
    "\n",
    "これらのメソッドに先ほど定義した simulator と探索ステップ数を指定すると、探索ステップ数だけ以下のループが回ります。\n",
    "\n",
    "1. パラメータ候補の中から次に実行するパラメータを選択\n",
    "2. 選択されたパラメータで simulator を実行\n",
    "\n",
    "1で返されるパラメータはデフォルトでは1つですが、1ステップで複数のパラメータを返すことも可能です。\n",
    "詳しくは「複数候補を一度に探索する」の項目を参照してください。  \n",
    "\n",
    "また、上記のループを PHYSBO の中で回すのではなく、1 と 2 を別個に外部から制御することも可能です。つまり、PHYSBO から次に実行するパラメータを推薦してもらい、それをPHYSBOの外部で何らかの形で評価し、評価値をPHYSBOに登録する、という手順が可能です。  \n",
    "詳しくは「インタラクティブに実行する」の項目を参照してください。\n",
    "\n",
    "### ランダムサーチ\n",
    "\n",
    "まず初めに、ランダムサーチを行ってみましょう。\n",
    "\n",
    "ベイズ最適化の実行には、目的関数値が1つ以上求まっている必要があるため、まずランダムサーチを実行します。   \n",
    "\n",
    "**引数**  \n",
    "\n",
    "- `max_num_probes`: 探索ステップ数  \n",
    "- `simulator`: 目的関数のシミュレータ (simulator クラスのオブジェクト) "
   ]
  },
  {
   "cell_type": "code",
   "execution_count": 10,
   "metadata": {},
   "outputs": [
    {
     "name": "stdout",
     "output_type": "stream",
     "text": [
      "0001-th step: f(x) = -1.070602 (action=15673)\n",
      "   current best f(x) = -1.070602 (best action=15673) \n",
      "\n",
      "0002-th step: f(x) = -1.153410 (action=16489)\n",
      "   current best f(x) = -1.070602 (best action=15673) \n",
      "\n",
      "0003-th step: f(x) = -0.981899 (action=7792)\n",
      "   current best f(x) = -0.981899 (best action=7792) \n",
      "\n",
      "0004-th step: f(x) = -1.066080 (action=13752)\n",
      "   current best f(x) = -0.981899 (best action=7792) \n",
      "\n",
      "0005-th step: f(x) = -1.043272 (action=9023)\n",
      "   current best f(x) = -0.981899 (best action=7792) \n",
      "\n",
      "0006-th step: f(x) = -1.125822 (action=1470)\n",
      "   current best f(x) = -0.981899 (best action=7792) \n",
      "\n",
      "0007-th step: f(x) = -1.070720 (action=14404)\n",
      "   current best f(x) = -0.981899 (best action=7792) \n",
      "\n",
      "0008-th step: f(x) = -1.091624 (action=14031)\n",
      "   current best f(x) = -0.981899 (best action=7792) \n",
      "\n",
      "0009-th step: f(x) = -0.963795 (action=5734)\n",
      "   current best f(x) = -0.963795 (best action=5734) \n",
      "\n",
      "0010-th step: f(x) = -0.989538 (action=3111)\n",
      "   current best f(x) = -0.963795 (best action=5734) \n",
      "\n",
      "0011-th step: f(x) = -1.135007 (action=1192)\n",
      "   current best f(x) = -0.963795 (best action=5734) \n",
      "\n",
      "0012-th step: f(x) = -1.003954 (action=8912)\n",
      "   current best f(x) = -0.963795 (best action=5734) \n",
      "\n",
      "0013-th step: f(x) = -0.994601 (action=1941)\n",
      "   current best f(x) = -0.963795 (best action=5734) \n",
      "\n",
      "0014-th step: f(x) = -0.971108 (action=4051)\n",
      "   current best f(x) = -0.963795 (best action=5734) \n",
      "\n",
      "0015-th step: f(x) = -1.096091 (action=14468)\n",
      "   current best f(x) = -0.963795 (best action=5734) \n",
      "\n",
      "0016-th step: f(x) = -0.982784 (action=8562)\n",
      "   current best f(x) = -0.963795 (best action=5734) \n",
      "\n",
      "0017-th step: f(x) = -1.052590 (action=16185)\n",
      "   current best f(x) = -0.963795 (best action=5734) \n",
      "\n",
      "0018-th step: f(x) = -1.079737 (action=17654)\n",
      "   current best f(x) = -0.963795 (best action=5734) \n",
      "\n",
      "0019-th step: f(x) = -1.025116 (action=4470)\n",
      "   current best f(x) = -0.963795 (best action=5734) \n",
      "\n",
      "0020-th step: f(x) = -1.048733 (action=1022)\n",
      "   current best f(x) = -0.963795 (best action=5734) \n",
      "\n"
     ]
    }
   ],
   "source": [
    "res = policy.random_search(max_num_probes=20, simulator=simulator())"
   ]
  },
  {
   "cell_type": "markdown",
   "metadata": {},
   "source": [
    "実行すると、各ステップの目的関数値とその action ID、現在までのベスト値とその action ID が出力されます。  \n",
    "\n",
    "### ベイズ最適化\n",
    "\n",
    "続いて、ベイズ最適化を以下のように実行します。\n",
    "\n",
    "**引数**  \n",
    "\n",
    "- `max_num_probes`: 探索数  \n",
    "- `simulator`: 目的関数のシミュレータ (simulator クラスのオブジェクト)  \n",
    "- `score`: 獲得関数(acquisition function) のタイプ。以下のいずれかを指定  \n",
    "    - TS (Thompson Sampling)  \n",
    "    - EI (Expected Improvement)  \n",
    "    - PI (Probability of Improvement)  \n",
    "- `interval`:  \n",
    "指定したインターバルごとに、ハイパーパラメータを学習する。  \n",
    "負の値を指定すると、ハイパーパラメータの学習は行われない。  \n",
    "0 を指定すると、ハイパーパラメータの学習は最初のステップでのみ行われる。  \n",
    "- `num_rand_basis`: 基底関数の数。0を指定すると、通常のガウス過程が使用される。  "
   ]
  },
  {
   "cell_type": "code",
   "execution_count": 11,
   "metadata": {},
   "outputs": [
    {
     "name": "stdout",
     "output_type": "stream",
     "text": [
      "Start the initial hyper parameter searching ...\n",
      "Done\n",
      "\n",
      "Start the hyper parameter learning ...\n",
      "0 -th epoch marginal likelihood -26.925099547547248\n",
      "50 -th epoch marginal likelihood -28.116900149263113\n",
      "100 -th epoch marginal likelihood -28.717048280838075\n",
      "150 -th epoch marginal likelihood -29.037240644509914\n",
      "200 -th epoch marginal likelihood -29.243814308007245\n",
      "250 -th epoch marginal likelihood -29.404990527484884\n",
      "300 -th epoch marginal likelihood -29.543375062782722\n",
      "350 -th epoch marginal likelihood -29.66433788563112\n",
      "400 -th epoch marginal likelihood -29.768631164012973\n",
      "450 -th epoch marginal likelihood -29.856696784555368\n",
      "500 -th epoch marginal likelihood -29.929612908422662\n",
      "Done\n",
      "\n",
      "0021-th step: f(x) = -1.071398 (action=399)\n",
      "   current best f(x) = -0.963795 (best action=5734) \n",
      "\n",
      "0022-th step: f(x) = -1.014235 (action=10613)\n",
      "   current best f(x) = -0.963795 (best action=5734) \n",
      "\n",
      "0023-th step: f(x) = -0.964418 (action=5068)\n",
      "   current best f(x) = -0.963795 (best action=5734) \n",
      "\n",
      "0024-th step: f(x) = -1.121763 (action=9)\n",
      "   current best f(x) = -0.963795 (best action=5734) \n",
      "\n",
      "0025-th step: f(x) = -1.011912 (action=4944)\n",
      "   current best f(x) = -0.963795 (best action=5734) \n",
      "\n",
      "0026-th step: f(x) = -1.099298 (action=15616)\n",
      "   current best f(x) = -0.963795 (best action=5734) \n",
      "\n",
      "0027-th step: f(x) = -2.832830 (action=5994)\n",
      "   current best f(x) = -0.963795 (best action=5734) \n",
      "\n",
      "0028-th step: f(x) = -0.997543 (action=187)\n",
      "   current best f(x) = -0.963795 (best action=5734) \n",
      "\n",
      "0029-th step: f(x) = -1.039733 (action=3374)\n",
      "   current best f(x) = -0.963795 (best action=5734) \n",
      "\n",
      "0030-th step: f(x) = -1.037882 (action=10372)\n",
      "   current best f(x) = -0.963795 (best action=5734) \n",
      "\n",
      "0031-th step: f(x) = -0.973614 (action=9434)\n",
      "   current best f(x) = -0.963795 (best action=5734) \n",
      "\n",
      "0032-th step: f(x) = -1.045038 (action=2584)\n",
      "   current best f(x) = -0.963795 (best action=5734) \n",
      "\n",
      "0033-th step: f(x) = -1.024711 (action=3907)\n",
      "   current best f(x) = -0.963795 (best action=5734) \n",
      "\n",
      "0034-th step: f(x) = -0.977174 (action=11967)\n",
      "   current best f(x) = -0.963795 (best action=5734) \n",
      "\n",
      "0035-th step: f(x) = -1.016829 (action=12521)\n",
      "   current best f(x) = -0.963795 (best action=5734) \n",
      "\n",
      "0036-th step: f(x) = -1.080353 (action=17450)\n",
      "   current best f(x) = -0.963795 (best action=5734) \n",
      "\n",
      "0037-th step: f(x) = -1.104096 (action=8370)\n",
      "   current best f(x) = -0.963795 (best action=5734) \n",
      "\n",
      "0038-th step: f(x) = -1.024638 (action=4748)\n",
      "   current best f(x) = -0.963795 (best action=5734) \n",
      "\n",
      "0039-th step: f(x) = -1.031309 (action=8424)\n",
      "   current best f(x) = -0.963795 (best action=5734) \n",
      "\n",
      "0040-th step: f(x) = -1.029702 (action=3)\n",
      "   current best f(x) = -0.963795 (best action=5734) \n",
      "\n",
      "Start the initial hyper parameter searching ...\n",
      "Done\n",
      "\n",
      "Start the hyper parameter learning ...\n",
      "0 -th epoch marginal likelihood 59.88367175417089\n",
      "50 -th epoch marginal likelihood 44.16546532996826\n",
      "100 -th epoch marginal likelihood 34.02568154788106\n",
      "150 -th epoch marginal likelihood 27.430721608506644\n",
      "200 -th epoch marginal likelihood 23.01519307357782\n",
      "250 -th epoch marginal likelihood 19.974841352169804\n",
      "300 -th epoch marginal likelihood 17.826810155440327\n",
      "350 -th epoch marginal likelihood 16.275342790401524\n",
      "400 -th epoch marginal likelihood 15.134111641472476\n",
      "450 -th epoch marginal likelihood 14.28137203301964\n",
      "500 -th epoch marginal likelihood 13.634591693133501\n",
      "Done\n",
      "\n",
      "0041-th step: f(x) = -1.043198 (action=14947)\n",
      "   current best f(x) = -0.963795 (best action=5734) \n",
      "\n",
      "0042-th step: f(x) = -1.070070 (action=17276)\n",
      "   current best f(x) = -0.963795 (best action=5734) \n",
      "\n",
      "0043-th step: f(x) = -1.201556 (action=15533)\n",
      "   current best f(x) = -0.963795 (best action=5734) \n",
      "\n",
      "0044-th step: f(x) = -1.034992 (action=9798)\n",
      "   current best f(x) = -0.963795 (best action=5734) \n",
      "\n",
      "0045-th step: f(x) = -1.423841 (action=3025)\n",
      "   current best f(x) = -0.963795 (best action=5734) \n",
      "\n",
      "0046-th step: f(x) = -1.083331 (action=13248)\n",
      "   current best f(x) = -0.963795 (best action=5734) \n",
      "\n",
      "0047-th step: f(x) = -0.997708 (action=3033)\n",
      "   current best f(x) = -0.963795 (best action=5734) \n",
      "\n",
      "0048-th step: f(x) = -1.057578 (action=14948)\n",
      "   current best f(x) = -0.963795 (best action=5734) \n",
      "\n",
      "0049-th step: f(x) = -1.004524 (action=7770)\n",
      "   current best f(x) = -0.963795 (best action=5734) \n",
      "\n",
      "0050-th step: f(x) = -1.005654 (action=2960)\n",
      "   current best f(x) = -0.963795 (best action=5734) \n",
      "\n",
      "0051-th step: f(x) = -0.965032 (action=3811)\n",
      "   current best f(x) = -0.963795 (best action=5734) \n",
      "\n",
      "0052-th step: f(x) = -1.314750 (action=15000)\n",
      "   current best f(x) = -0.963795 (best action=5734) \n",
      "\n",
      "0053-th step: f(x) = -0.963975 (action=8974)\n",
      "   current best f(x) = -0.963795 (best action=5734) \n",
      "\n",
      "0054-th step: f(x) = -0.997418 (action=2111)\n",
      "   current best f(x) = -0.963795 (best action=5734) \n",
      "\n",
      "0055-th step: f(x) = -1.062388 (action=5983)\n",
      "   current best f(x) = -0.963795 (best action=5734) \n",
      "\n",
      "0056-th step: f(x) = -1.371617 (action=15009)\n",
      "   current best f(x) = -0.963795 (best action=5734) \n",
      "\n",
      "0057-th step: f(x) = -1.052755 (action=9973)\n",
      "   current best f(x) = -0.963795 (best action=5734) \n",
      "\n",
      "0058-th step: f(x) = -1.087914 (action=13203)\n",
      "   current best f(x) = -0.963795 (best action=5734) \n",
      "\n",
      "0059-th step: f(x) = -1.018920 (action=11788)\n",
      "   current best f(x) = -0.963795 (best action=5734) \n",
      "\n",
      "0060-th step: f(x) = -1.082635 (action=7501)\n",
      "   current best f(x) = -0.963795 (best action=5734) \n",
      "\n",
      "Start the initial hyper parameter searching ...\n",
      "Done\n",
      "\n",
      "Start the hyper parameter learning ...\n",
      "0 -th epoch marginal likelihood 135.81397539679753\n",
      "50 -th epoch marginal likelihood 96.99846825120406\n",
      "100 -th epoch marginal likelihood 71.0222085012411\n",
      "150 -th epoch marginal likelihood 53.53868046120561\n",
      "200 -th epoch marginal likelihood 41.48374887405465\n",
      "250 -th epoch marginal likelihood 32.979745233734825\n",
      "300 -th epoch marginal likelihood 26.854483541078487\n",
      "350 -th epoch marginal likelihood 22.362422854481046\n",
      "400 -th epoch marginal likelihood 19.019177116277078\n",
      "450 -th epoch marginal likelihood 16.50173465568532\n",
      "500 -th epoch marginal likelihood 14.588553962913295\n",
      "Done\n",
      "\n",
      "0061-th step: f(x) = -1.142549 (action=13034)\n",
      "   current best f(x) = -0.963795 (best action=5734) \n",
      "\n",
      "0062-th step: f(x) = -1.081112 (action=16835)\n",
      "   current best f(x) = -0.963795 (best action=5734) \n",
      "\n",
      "0063-th step: f(x) = -0.990657 (action=999)\n",
      "   current best f(x) = -0.963795 (best action=5734) \n",
      "\n",
      "0064-th step: f(x) = -0.999815 (action=702)\n",
      "   current best f(x) = -0.963795 (best action=5734) \n",
      "\n",
      "0065-th step: f(x) = -1.067548 (action=17967)\n",
      "   current best f(x) = -0.963795 (best action=5734) \n",
      "\n",
      "0066-th step: f(x) = -1.013053 (action=36)\n",
      "   current best f(x) = -0.963795 (best action=5734) \n",
      "\n",
      "0067-th step: f(x) = -0.967039 (action=7897)\n",
      "   current best f(x) = -0.963795 (best action=5734) \n",
      "\n",
      "0068-th step: f(x) = -1.044369 (action=11370)\n",
      "   current best f(x) = -0.963795 (best action=5734) \n",
      "\n",
      "0069-th step: f(x) = -1.133438 (action=17955)\n",
      "   current best f(x) = -0.963795 (best action=5734) \n",
      "\n",
      "0070-th step: f(x) = -0.985278 (action=10656)\n",
      "   current best f(x) = -0.963795 (best action=5734) \n",
      "\n",
      "0071-th step: f(x) = -1.011144 (action=11395)\n",
      "   current best f(x) = -0.963795 (best action=5734) \n",
      "\n",
      "0072-th step: f(x) = -0.979780 (action=4292)\n",
      "   current best f(x) = -0.963795 (best action=5734) \n",
      "\n",
      "0073-th step: f(x) = -1.005694 (action=2996)\n",
      "   current best f(x) = -0.963795 (best action=5734) \n",
      "\n",
      "0074-th step: f(x) = -1.074548 (action=2761)\n",
      "   current best f(x) = -0.963795 (best action=5734) \n",
      "\n",
      "0075-th step: f(x) = -0.991785 (action=7292)\n",
      "   current best f(x) = -0.963795 (best action=5734) \n",
      "\n",
      "0076-th step: f(x) = -0.994784 (action=7214)\n",
      "   current best f(x) = -0.963795 (best action=5734) \n",
      "\n",
      "0077-th step: f(x) = -1.000595 (action=2479)\n",
      "   current best f(x) = -0.963795 (best action=5734) \n",
      "\n",
      "0078-th step: f(x) = -1.071346 (action=12024)\n",
      "   current best f(x) = -0.963795 (best action=5734) \n",
      "\n",
      "0079-th step: f(x) = -1.037927 (action=14091)\n",
      "   current best f(x) = -0.963795 (best action=5734) \n",
      "\n",
      "0080-th step: f(x) = -1.012435 (action=12601)\n",
      "   current best f(x) = -0.963795 (best action=5734) \n",
      "\n",
      "Start the initial hyper parameter searching ...\n",
      "Done\n",
      "\n",
      "Start the hyper parameter learning ...\n",
      "0 -th epoch marginal likelihood 192.77078380638955\n",
      "50 -th epoch marginal likelihood 137.49859768162875\n",
      "100 -th epoch marginal likelihood 101.54305913688663\n"
     ]
    },
    {
     "name": "stdout",
     "output_type": "stream",
     "text": [
      "150 -th epoch marginal likelihood 78.08998966259162\n",
      "200 -th epoch marginal likelihood 57.89444281720654\n",
      "250 -th epoch marginal likelihood 42.27930198479976\n",
      "300 -th epoch marginal likelihood 31.73915917546688\n",
      "350 -th epoch marginal likelihood 24.912275899663143\n",
      "400 -th epoch marginal likelihood 18.26720496087148\n",
      "450 -th epoch marginal likelihood 12.485394386102428\n",
      "500 -th epoch marginal likelihood 8.355749043954546\n",
      "Done\n",
      "\n",
      "0081-th step: f(x) = -1.123209 (action=17976)\n",
      "   current best f(x) = -0.963795 (best action=5734) \n",
      "\n",
      "0082-th step: f(x) = -1.137505 (action=15992)\n",
      "   current best f(x) = -0.963795 (best action=5734) \n",
      "\n",
      "0083-th step: f(x) = -1.081899 (action=17907)\n",
      "   current best f(x) = -0.963795 (best action=5734) \n",
      "\n",
      "0084-th step: f(x) = -1.000543 (action=13541)\n",
      "   current best f(x) = -0.963795 (best action=5734) \n",
      "\n",
      "0085-th step: f(x) = -0.996815 (action=8990)\n",
      "   current best f(x) = -0.963795 (best action=5734) \n",
      "\n",
      "0086-th step: f(x) = -0.991430 (action=10322)\n",
      "   current best f(x) = -0.963795 (best action=5734) \n",
      "\n",
      "0087-th step: f(x) = -1.018718 (action=2382)\n",
      "   current best f(x) = -0.963795 (best action=5734) \n",
      "\n",
      "0088-th step: f(x) = -0.999809 (action=10877)\n",
      "   current best f(x) = -0.963795 (best action=5734) \n",
      "\n",
      "0089-th step: f(x) = -1.384209 (action=3006)\n",
      "   current best f(x) = -0.963795 (best action=5734) \n",
      "\n",
      "0090-th step: f(x) = -1.009738 (action=3779)\n",
      "   current best f(x) = -0.963795 (best action=5734) \n",
      "\n",
      "0091-th step: f(x) = -1.009358 (action=1849)\n",
      "   current best f(x) = -0.963795 (best action=5734) \n",
      "\n",
      "0092-th step: f(x) = -1.034998 (action=8965)\n",
      "   current best f(x) = -0.963795 (best action=5734) \n",
      "\n",
      "0093-th step: f(x) = -0.963759 (action=5698)\n",
      "   current best f(x) = -0.963759 (best action=5698) \n",
      "\n",
      "0094-th step: f(x) = -0.968503 (action=4069)\n",
      "   current best f(x) = -0.963759 (best action=5698) \n",
      "\n",
      "0095-th step: f(x) = -1.010393 (action=3588)\n",
      "   current best f(x) = -0.963759 (best action=5698) \n",
      "\n",
      "0096-th step: f(x) = -0.996779 (action=8954)\n",
      "   current best f(x) = -0.963759 (best action=5698) \n",
      "\n",
      "0097-th step: f(x) = -0.992269 (action=8398)\n",
      "   current best f(x) = -0.963759 (best action=5698) \n",
      "\n",
      "0098-th step: f(x) = -1.110322 (action=16206)\n",
      "   current best f(x) = -0.963759 (best action=5698) \n",
      "\n",
      "0099-th step: f(x) = -0.988023 (action=4381)\n",
      "   current best f(x) = -0.963759 (best action=5698) \n",
      "\n",
      "0100-th step: f(x) = -1.003655 (action=1183)\n",
      "   current best f(x) = -0.963759 (best action=5698) \n",
      "\n"
     ]
    }
   ],
   "source": [
    "res = policy.bayes_search(max_num_probes=80, simulator=simulator(), score='TS', \n",
    "                                                  interval=20, num_rand_basis=5000)"
   ]
  },
  {
   "cell_type": "markdown",
   "metadata": {},
   "source": [
    "## 結果の確認\n",
    "\n",
    "探索結果 res は history クラスのオブジェクト (`physbo.search.discrete.results.history`) として返されます。  \n",
    "以下より探索結果を参照します。\n",
    "\n",
    "- `res.fx` : simulator (目的関数) の評価値の履歴\n",
    "- `res.chosed_actions`: simulator を評価したときの action ID の履歴  \n",
    "- `fbest, best_action= res.export_all_sequence_best_fx()`: simulator を評価した全タイミングにおけるベスト値とその action ID の履歴  \n",
    "- `res.total_num_search`: simulator のトータル評価数  \n",
    "\n",
    "各ステップでの目的関数値と、ベスト値の推移をプロットしてみましょう。  \n",
    "`res.fx`, `best_fx` はそれぞれ `res.total_num_search` までの範囲を指定します。"
   ]
  },
  {
   "cell_type": "code",
   "execution_count": 12,
   "metadata": {},
   "outputs": [],
   "source": [
    "import matplotlib.pyplot as plt\n",
    "%matplotlib inline"
   ]
  },
  {
   "cell_type": "code",
   "execution_count": 13,
   "metadata": {},
   "outputs": [
    {
     "data": {
      "text/plain": [
       "[<matplotlib.lines.Line2D at 0x7fa4f8e619d0>]"
      ]
     },
     "execution_count": 13,
     "metadata": {},
     "output_type": "execute_result"
    },
    {
     "data": {
      "image/png": "[encoded data removed]",
      "text/plain": [
       "<Figure size 432x288 with 1 Axes>"
      ]
     },
     "metadata": {
      "needs_background": "light"
     },
     "output_type": "display_data"
    }
   ],
   "source": [
    "plt.plot(res.fx[0:res.total_num_search])"
   ]
  },
  {
   "cell_type": "code",
   "execution_count": 14,
   "metadata": {},
   "outputs": [
    {
     "data": {
      "text/plain": [
       "[<matplotlib.lines.Line2D at 0x7fa4f8e90bd0>]"
      ]
     },
     "execution_count": 14,
     "metadata": {},
     "output_type": "execute_result"
    },
    {
     "data": {
      "image/png": "[encoded data removed]",
      "text/plain": [
       "<Figure size 432x288 with 1 Axes>"
      ]
     },
     "metadata": {
      "needs_background": "light"
     },
     "output_type": "display_data"
    }
   ],
   "source": [
    "best_fx, best_action = res.export_all_sequence_best_fx()\n",
    "plt.plot(best_fx)"
   ]
  },
  {
   "cell_type": "markdown",
   "metadata": {},
   "source": [
    "## 結果のシリアライズ\n",
    "\n",
    "探索結果は `save` メソッドにより外部ファイルに保存できます。"
   ]
  },
  {
   "cell_type": "code",
   "execution_count": 15,
   "metadata": {},
   "outputs": [],
   "source": [
    "res.save('test.npz')"
   ]
  },
  {
   "cell_type": "code",
   "execution_count": 16,
   "metadata": {},
   "outputs": [],
   "source": [
    "del res"
   ]
  },
  {
   "cell_type": "markdown",
   "metadata": {},
   "source": [
    "保存した結果ファイルは以下のようにロードします。"
   ]
  },
  {
   "cell_type": "code",
   "execution_count": 17,
   "metadata": {},
   "outputs": [],
   "source": [
    "res = physbo.search.discrete.results.history()\n",
    "res.load('test.npz')"
   ]
  },
  {
   "cell_type": "code",
   "execution_count": null,
   "metadata": {},
   "outputs": [],
   "source": []
  }
 ],
 "metadata": {
  "anaconda-cloud": {},
  "kernelspec": {
   "display_name": "Python 2",
   "language": "python",
   "name": "python2"
  },
  "language_info": {
   "codemirror_mode": {
    "name": "ipython",
    "version": 3
   },
   "file_extension": ".py",
   "mimetype": "text/x-python",
   "name": "python",
   "nbconvert_exporter": "python",
   "pygments_lexer": "ipython3",
   "version": "3.6.10"
  }
 },
 "nbformat": 4,
 "nbformat_minor": 2
}
