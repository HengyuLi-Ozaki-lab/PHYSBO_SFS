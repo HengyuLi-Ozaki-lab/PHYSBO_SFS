{
 "cells": [
  {
   "cell_type": "markdown",
   "metadata": {},
   "source": [
    "# ガウス過程\n",
    "\n",
    "PHYSBOではガウス過程回帰を実行しながらベイズ最適化を行なっている。\n",
    "\n",
    "そのため、学習データが与えられた際にガウス過程回帰を実行することもでき、学習済みモデルを利用したテストデータの予測も行うことができる。\n",
    "\n",
    "ここでは、その手順について紹介する。\n",
    "\n",
    "\n",
    "## 探索候補データの準備\n",
    "\n",
    "これまでのマニュアルでも利用していたs5-210.csvを用いてガウス過程を実行します。"
   ]
  },
  {
   "cell_type": "code",
   "execution_count": 1,
   "metadata": {},
   "outputs": [],
   "source": [
    "import physbo\n",
    "\n",
    "import os\n",
    "import urllib2\n",
    "import ssl\n",
    "import numpy as np\n",
    "\n",
    "ssl._create_default_https_context = ssl._create_unverified_context\n",
    "\n",
    "def download():\n",
    "    if not os.path.exists('data/s5-210.csv'):\n",
    "\n",
    "        if not os.path.exists('data'):\n",
    "            os.mkdir('data')\n",
    "            \n",
    "        print('Downloading...')\n",
    "        response = urllib2.urlopen(\"http://www.tsudalab.org/files/s5-210.csv\")\n",
    "        with open('data/s5-210.csv', 'wb') as out_file:\n",
    "            out_file.write(response.read())\n",
    "        response.close()\n",
    "        print('Done')\n",
    "        \n",
    "def load_data():\n",
    "    download()\n",
    "    A =  np.asarray(np.loadtxt('data/s5-210.csv',skiprows=1, usecols=(3,4,5,6), delimiter=',') )\n",
    "    X = A[:,0:3]\n",
    "    t  = -A[:,3]\n",
    "    return X, t\n",
    "\n",
    "X, t = load_data()\n",
    "X = physbo.misc.centering( X )\n"
   ]
  },
  {
   "cell_type": "markdown",
   "metadata": {},
   "source": [
    "## 学習データの定義\n",
    "\n",
    "対象データのうち、1割をトレーニングデータとして利用し、別の1割をテストデータとして利用します。"
   ]
  },
  {
   "cell_type": "code",
   "execution_count": 2,
   "metadata": {},
   "outputs": [
    {
     "name": "stdout",
     "output_type": "stream",
     "text": [
      "Ntrain = 1798\n",
      "Ntest = 1798\n"
     ]
    }
   ],
   "source": [
    "N = len(t)\n",
    "Ntrain = int(N*0.1)\n",
    "Ntest = min(int(N*0.1), N-Ntrain)\n",
    "\n",
    "id_all   = np.random.choice(N, N, replace=False)\n",
    "id_train  = id_all[0:Ntrain]\n",
    "id_test = id_all[Ntrain:Ntrain+Ntest]\n",
    "\n",
    "X_train = X[id_train]\n",
    "X_test = X[id_test]\n",
    "\n",
    "t_train = t[id_train]\n",
    "t_test = t[id_test]\n",
    "\n",
    "print \"Ntrain =\", Ntrain\n",
    "print \"Ntest =\", Ntest"
   ]
  },
  {
   "cell_type": "markdown",
   "metadata": {},
   "source": [
    "## ガウス過程の学習と予測\n",
    "\n",
    "以下のプロセスでガウス過程を学習し、テストデータの予測を行う。\n",
    "\n",
    "１、ガウス過程のモデルを生成する。\n",
    "\n",
    "２、X_train, t_trainを用いてモデルを学習する。\n",
    "\n",
    "３、学習されたモデルを用いてテストデータ(X_test)に対する予測を実行する。"
   ]
  },
  {
   "cell_type": "code",
   "execution_count": 3,
   "metadata": {},
   "outputs": [
    {
     "name": "stdout",
     "output_type": "stream",
     "text": [
      "Start the initial hyper parameter searching ...\n",
      "Done\n",
      "\n",
      "Start the hyper parameter learning ...\n",
      "0 -th epoch marginal likelihood 13487.02857368489\n",
      "50 -th epoch marginal likelihood 4346.376485747746\n",
      "100 -th epoch marginal likelihood 2350.0005875599463\n",
      "150 -th epoch marginal likelihood 789.3693880781211\n",
      "200 -th epoch marginal likelihood 63.12225884891723\n",
      "250 -th epoch marginal likelihood -649.784918681632\n",
      "300 -th epoch marginal likelihood -1044.85201007355\n",
      "350 -th epoch marginal likelihood -1340.7876846472964\n",
      "400 -th epoch marginal likelihood -1548.6797907311732\n",
      "450 -th epoch marginal likelihood -1622.3203875925997\n",
      "500 -th epoch marginal likelihood -1729.5509071226434\n",
      "Done\n",
      "\n",
      "\n",
      "\n",
      "likelihood parameter =   [-3.00223013]\n",
      "mean parameter in GP prior:  [-1.05934876]\n",
      "covariance parameter in GP prior:  [-0.92336195 -2.3648182 ]\n",
      "\n",
      "\n"
     ]
    }
   ],
   "source": [
    "#共分散の定義(ガウシアン)\n",
    "cov = physbo.gp.cov.gauss( X_train.shape[1],ard = False )\n",
    "\n",
    "#平均の定義\n",
    "mean = physbo.gp.mean.const()\n",
    "\n",
    "#尤度関数の定義(ガウシアン)\n",
    "lik = physbo.gp.lik.gauss()\n",
    "\n",
    "#ガウス過程モデルの生成\n",
    "gp = physbo.gp.model(lik=lik,mean=mean,cov=cov)\n",
    "config = physbo.misc.set_config()\n",
    "\n",
    "\n",
    "\n",
    "#ガウス過程モデルを学習\n",
    "gp.fit(X_train, t_train, config)\n",
    "\n",
    "#学習されたガウス過程におけるパラメタを出力\n",
    "gp.print_params()\n",
    "\n",
    "\n",
    "\n",
    "#テストデータの平均値（予測値）および分散を計算\n",
    "gp.prepare(X_train, t_train)\n",
    "fmean = gp.get_post_fmean(X_train, X_test)\n",
    "fcov = gp.get_post_fcov(X_train, X_test)\n"
   ]
  },
  {
   "cell_type": "markdown",
   "metadata": {},
   "source": [
    "予測の結果"
   ]
  },
  {
   "cell_type": "code",
   "execution_count": 4,
   "metadata": {},
   "outputs": [
    {
     "data": {
      "text/plain": [
       "array([-1.07261048, -1.10587383, -1.11667972, ..., -1.20419899,\n",
       "       -1.1985833 , -1.05801649])"
      ]
     },
     "execution_count": 4,
     "metadata": {},
     "output_type": "execute_result"
    }
   ],
   "source": [
    "fmean"
   ]
  },
  {
   "cell_type": "markdown",
   "metadata": {},
   "source": [
    "分散の結果"
   ]
  },
  {
   "cell_type": "code",
   "execution_count": 5,
   "metadata": {},
   "outputs": [
    {
     "data": {
      "text/plain": [
       "array([0.00058455, 0.00041233, 0.00046806, ..., 0.00055816, 0.00054886,\n",
       "       0.00072352])"
      ]
     },
     "execution_count": 5,
     "metadata": {},
     "output_type": "execute_result"
    }
   ],
   "source": [
    "fcov"
   ]
  },
  {
   "cell_type": "markdown",
   "metadata": {},
   "source": [
    "予測値の平均二乗誤差の出力"
   ]
  },
  {
   "cell_type": "code",
   "execution_count": 6,
   "metadata": {},
   "outputs": [
    {
     "data": {
      "text/plain": [
       "0.007196752385924986"
      ]
     },
     "execution_count": 6,
     "metadata": {},
     "output_type": "execute_result"
    }
   ],
   "source": [
    "np.mean((fmean-t_test)**2)"
   ]
  },
  {
   "cell_type": "markdown",
   "metadata": {},
   "source": [
    "## 訓練済みモデルによる予測\n",
    "\n",
    "学習済みモデルのパラメタをgp_paramsとして読み出し、これを用いた予測を行う。\n",
    "\n",
    "gp_paramsおよび学習データ(X_train, t_train)を記憶しておくことで、訓練済みモデルによる予測が可能となる。"
   ]
  },
  {
   "cell_type": "markdown",
   "metadata": {},
   "source": [
    "学習されたパラメタを準備(学習の直後に行う必要あり)"
   ]
  },
  {
   "cell_type": "code",
   "execution_count": 7,
   "metadata": {},
   "outputs": [
    {
     "data": {
      "text/plain": [
       "array([-3.00223013, -1.05934876, -0.92336195, -2.3648182 ])"
      ]
     },
     "execution_count": 7,
     "metadata": {},
     "output_type": "execute_result"
    }
   ],
   "source": [
    "#学習したパラメタを１次元配列として準備\n",
    "gp_params =  np.append(np.append(gp.lik.params, gp.prior.mean.params), gp.prior.cov.params)\n",
    "\n",
    "gp_params"
   ]
  },
  {
   "cell_type": "markdown",
   "metadata": {},
   "source": [
    "学習に利用したモデルと同様のモデルをgpとして準備"
   ]
  },
  {
   "cell_type": "code",
   "execution_count": 8,
   "metadata": {},
   "outputs": [],
   "source": [
    "#共分散の定義(ガウシアン)\n",
    "cov = physbo.gp.cov.gauss( X_train.shape[1],ard = False )\n",
    "\n",
    "#平均の定義\n",
    "mean = physbo.gp.mean.const()\n",
    "\n",
    "#尤度関数の定義(ガウシアン)\n",
    "lik = physbo.gp.lik.gauss()\n",
    "\n",
    "#ガウス過程モデルの生成\n",
    "gp = physbo.gp.model(lik=lik,mean=mean,cov=cov)\n"
   ]
  },
  {
   "cell_type": "markdown",
   "metadata": {},
   "source": [
    "学習済みのパラメタをモデルに入力し予測を実行"
   ]
  },
  {
   "cell_type": "code",
   "execution_count": 9,
   "metadata": {},
   "outputs": [],
   "source": [
    "#学習済みのパラメタをガウス過程に入力\n",
    "gp.set_params(gp_params)\n",
    "\n",
    "\n",
    "#テストデータの平均値（予測値）および分散を計算\n",
    "gp.prepare(X_train, t_train)\n",
    "fmean = gp.get_post_fmean(X_train, X_test)\n",
    "fcov = gp.get_post_fcov(X_train, X_test)"
   ]
  },
  {
   "cell_type": "markdown",
   "metadata": {},
   "source": [
    "予測の結果"
   ]
  },
  {
   "cell_type": "code",
   "execution_count": 10,
   "metadata": {},
   "outputs": [
    {
     "data": {
      "text/plain": [
       "array([-1.07261048, -1.10587383, -1.11667972, ..., -1.20419899,\n",
       "       -1.1985833 , -1.05801649])"
      ]
     },
     "execution_count": 10,
     "metadata": {},
     "output_type": "execute_result"
    }
   ],
   "source": [
    "fmean"
   ]
  },
  {
   "cell_type": "markdown",
   "metadata": {},
   "source": [
    "分散の結果"
   ]
  },
  {
   "cell_type": "code",
   "execution_count": 11,
   "metadata": {},
   "outputs": [
    {
     "data": {
      "text/plain": [
       "array([0.00058455, 0.00041233, 0.00046806, ..., 0.00055816, 0.00054886,\n",
       "       0.00072352])"
      ]
     },
     "execution_count": 11,
     "metadata": {},
     "output_type": "execute_result"
    }
   ],
   "source": [
    "fcov"
   ]
  },
  {
   "cell_type": "markdown",
   "metadata": {},
   "source": [
    "予測値の平均二乗誤差の出力"
   ]
  },
  {
   "cell_type": "code",
   "execution_count": 12,
   "metadata": {},
   "outputs": [
    {
     "data": {
      "text/plain": [
       "0.007196752385924986"
      ]
     },
     "execution_count": 12,
     "metadata": {},
     "output_type": "execute_result"
    }
   ],
   "source": [
    "np.mean((fmean-t_test)**2)"
   ]
  },
  {
   "cell_type": "code",
   "execution_count": null,
   "metadata": {},
   "outputs": [],
   "source": []
  }
 ],
 "metadata": {
  "kernelspec": {
   "display_name": "Python 2",
   "language": "python",
   "name": "python2"
  },
  "language_info": {
   "codemirror_mode": {
    "name": "ipython",
    "version": 3
   },
   "file_extension": ".py",
   "mimetype": "text/x-python",
   "name": "python",
   "nbconvert_exporter": "python",
   "pygments_lexer": "ipython3",
   "version": "3.6.10"
  }
 },
 "nbformat": 4,
 "nbformat_minor": 1
}
