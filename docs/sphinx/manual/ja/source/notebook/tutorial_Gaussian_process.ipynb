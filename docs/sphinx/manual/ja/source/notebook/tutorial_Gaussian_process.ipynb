{
 "cells": [
  {
   "cell_type": "markdown",
   "metadata": {},
   "source": [
    "# ガウス過程\n",
    "\n",
    "COMBOではガウス過程回帰を実行しながらベイズ最適化を行なっている。\n",
    "\n",
    "そのため、学習データが与えられた際にガウス過程回帰を実行することもでき、学習済みモデルを利用したテストデータの予測も行うことができる。\n",
    "\n",
    "ここでは、その手順について紹介する。\n",
    "\n",
    "\n",
    "## 探索候補データの準備\n",
    "\n",
    "これまでのマニュアルでも利用していたs5-210.csvを用いてガウス過程を実行します。"
   ]
  },
  {
   "cell_type": "code",
   "execution_count": 11,
   "metadata": {},
   "outputs": [],
   "source": [
    "import combo\n",
    "\n",
    "import os\n",
    "import urllib\n",
    "import ssl\n",
    "import numpy as np\n",
    "\n",
    "ssl._create_default_https_context = ssl._create_unverified_context\n",
    "\n",
    "def download():\n",
    "    if not os.path.exists('data/s5-210.csv'):\n",
    "\n",
    "        if not os.path.exists('data'):\n",
    "            os.mkdir('data')\n",
    "            \n",
    "        print('Downloading...')\n",
    "        with urllib.request.urlopen(\"http://www.tsudalab.org/files/s5-210.csv\") as response, open('data/s5-210.csv', 'wb') as out_file:\n",
    "            out_file.write(response.read())\n",
    "        print('Done')\n",
    "        \n",
    "def load_data():\n",
    "    #download()\n",
    "    A =  np.asarray(np.loadtxt('data/s5-210.csv',skiprows=1,delimiter=',') )\n",
    "    X = A[:,0:3]\n",
    "    t  = -A[:,3]\n",
    "    return X, t\n",
    "\n",
    "X, t = load_data()\n",
    "X = combo.misc.centering( X )\n"
   ]
  },
  {
   "cell_type": "markdown",
   "metadata": {},
   "source": [
    "## 学習データの定義\n",
    "\n",
    "対象データのうち、８割をトレーニングデータとして利用し、２割をテストデータとして利用できるように分割します。"
   ]
  },
  {
   "cell_type": "code",
   "execution_count": 12,
   "metadata": {},
   "outputs": [],
   "source": [
    "id_all   = np.random.choice(len(t), len(t), replace=False)\n",
    "id_train  = id_all[0:int(len(t)*0.1)]\n",
    "id_test = id_all[int(len(t)*0.8):len(t)]\n",
    "\n",
    "X_train = X[id_train]\n",
    "X_test = X[id_test]\n",
    "\n",
    "t_train = t[id_train]\n",
    "t_test = t[id_test]\n"
   ]
  },
  {
   "cell_type": "markdown",
   "metadata": {},
   "source": [
    "## ガウス過程の学習と予測\n",
    "\n",
    "以下のプロセスでガウス過程を学習し、テストデータの予測を行う。\n",
    "\n",
    "１、ガウス過程のモデルを生成する。\n",
    "\n",
    "２、X_train, t_trainを用いてモデルを学習する。\n",
    "\n",
    "３、学習されたモデルを用いてテストデータ(X_test)に対する予測を実行する。"
   ]
  },
  {
   "cell_type": "code",
   "execution_count": 15,
   "metadata": {},
   "outputs": [
    {
     "name": "stdout",
     "output_type": "stream",
     "text": [
      "Start the initial hyper parameter searching ...\n",
      "Done\n",
      "\n",
      "Start the hyper parameter learning ...\n",
      "0 -th epoch marginal likelihood 20116.31340799952\n",
      "50 -th epoch marginal likelihood 7449.118866812681\n",
      "100 -th epoch marginal likelihood 4448.950758973205\n",
      "150 -th epoch marginal likelihood 2602.476438510648\n",
      "200 -th epoch marginal likelihood 986.0295683274035\n",
      "250 -th epoch marginal likelihood -176.85205456828135\n",
      "300 -th epoch marginal likelihood -803.1601264779774\n",
      "350 -th epoch marginal likelihood -1242.9555258335376\n",
      "400 -th epoch marginal likelihood -1454.0324191553887\n",
      "450 -th epoch marginal likelihood -1575.5402432541782\n",
      "500 -th epoch marginal likelihood -1635.0787954316102\n",
      "Done\n",
      "\n",
      "\n",
      "\n",
      "likelihood parameter =   [-2.7509835]\n",
      "mean parameter in GP prior:  [-1.059573]\n",
      "covariance parameter in GP prior:  [-1.23719766 -2.51086395]\n",
      "\n",
      "\n"
     ]
    }
   ],
   "source": [
    "#共分散の定義(ガウシアン)\n",
    "cov = combo.gp.cov.gauss( X_train.shape[1],ard = False )\n",
    "\n",
    "#平均の定義\n",
    "mean = combo.gp.mean.const()\n",
    "\n",
    "#尤度関数の定義(ガウシアン)\n",
    "lik = combo.gp.lik.gauss()\n",
    "\n",
    "#ガウス過程モデルの生成\n",
    "gp = combo.gp.model(lik=lik,mean=mean,cov=cov)\n",
    "config = combo.misc.set_config()\n",
    "\n",
    "\n",
    "\n",
    "#ガウス過程モデルを学習\n",
    "gp.fit(X_train, t_train, config)\n",
    "\n",
    "#学習されたガウス過程におけるパラメタを出力\n",
    "gp.print_params()\n",
    "\n",
    "\n",
    "\n",
    "#テストデータの平均値（予測値）および分散を計算\n",
    "gp.prepare(X_train, t_train)\n",
    "fmean = gp.get_post_fmean(X_train, X_test)\n",
    "fcov = gp.get_post_fcov(X_train, X_test)\n"
   ]
  },
  {
   "cell_type": "raw",
   "metadata": {},
   "source": [
    "予測の結果"
   ]
  },
  {
   "cell_type": "code",
   "execution_count": 16,
   "metadata": {},
   "outputs": [
    {
     "data": {
      "text/plain": [
       "array([-1.14390157, -0.98930274, -0.98061332, ..., -1.08664574,\n",
       "       -1.07799135, -1.05788019])"
      ]
     },
     "execution_count": 16,
     "metadata": {},
     "output_type": "execute_result"
    }
   ],
   "source": [
    "fmean"
   ]
  },
  {
   "cell_type": "markdown",
   "metadata": {},
   "source": [
    "分散の結果"
   ]
  },
  {
   "cell_type": "code",
   "execution_count": 17,
   "metadata": {},
   "outputs": [
    {
     "data": {
      "text/plain": [
       "array([0.00099564, 0.00129194, 0.00144664, ..., 0.00118036, 0.00095491,\n",
       "       0.00165648])"
      ]
     },
     "execution_count": 17,
     "metadata": {},
     "output_type": "execute_result"
    }
   ],
   "source": [
    "fcov"
   ]
  },
  {
   "cell_type": "markdown",
   "metadata": {},
   "source": [
    "予測値の平均二乗誤差の出力"
   ]
  },
  {
   "cell_type": "code",
   "execution_count": 18,
   "metadata": {},
   "outputs": [
    {
     "data": {
      "text/plain": [
       "0.007159063044483804"
      ]
     },
     "execution_count": 18,
     "metadata": {},
     "output_type": "execute_result"
    }
   ],
   "source": [
    "np.mean((fmean-t_test)**2)"
   ]
  },
  {
   "cell_type": "markdown",
   "metadata": {},
   "source": [
    "## 訓練済みモデルによる予測\n",
    "\n",
    "学習済みモデルのパラメタをgp_paramsとして読み出し、これを用いた予測を行う。\n",
    "\n",
    "gp_paramsおよび学習データ(X_train, t_train)を記憶しておくことで、訓練済みモデルによる予測が可能となる。"
   ]
  },
  {
   "cell_type": "markdown",
   "metadata": {},
   "source": [
    "学習されたパラメタを準備(学習の直後に行う必要あり)"
   ]
  },
  {
   "cell_type": "code",
   "execution_count": 24,
   "metadata": {},
   "outputs": [
    {
     "data": {
      "text/plain": [
       "array([-2.7509835 , -1.059573  , -1.23719766, -2.51086395])"
      ]
     },
     "execution_count": 24,
     "metadata": {},
     "output_type": "execute_result"
    }
   ],
   "source": [
    "#学習したパラメタを１次元配列として準備\n",
    "gp_params =  np.append(np.append(gp.lik.params, gp.prior.mean.params), gp.prior.cov.params)\n",
    "\n",
    "gp_params"
   ]
  },
  {
   "cell_type": "markdown",
   "metadata": {},
   "source": [
    "学習に利用したモデルと同様のモデルをgpとして準備"
   ]
  },
  {
   "cell_type": "code",
   "execution_count": 25,
   "metadata": {},
   "outputs": [],
   "source": [
    "#共分散の定義(ガウシアン)\n",
    "cov = combo.gp.cov.gauss( X_train.shape[1],ard = False )\n",
    "\n",
    "#平均の定義\n",
    "mean = combo.gp.mean.const()\n",
    "\n",
    "#尤度関数の定義(ガウシアン)\n",
    "lik = combo.gp.lik.gauss()\n",
    "\n",
    "#ガウス過程モデルの生成\n",
    "gp = combo.gp.model(lik=lik,mean=mean,cov=cov)\n"
   ]
  },
  {
   "cell_type": "markdown",
   "metadata": {},
   "source": [
    "学習済みのパラメタをモデルに入力し予測を実行"
   ]
  },
  {
   "cell_type": "code",
   "execution_count": 26,
   "metadata": {},
   "outputs": [],
   "source": [
    "#学習済みのパラメタをガウス過程に入力\n",
    "gp.set_params(gp_params)\n",
    "\n",
    "\n",
    "#テストデータの平均値（予測値）および分散を計算\n",
    "gp.prepare(X_train, t_train)\n",
    "fmean = gp.get_post_fmean(X_train, X_test)\n",
    "fcov = gp.get_post_fcov(X_train, X_test)"
   ]
  },
  {
   "cell_type": "markdown",
   "metadata": {},
   "source": [
    "予測の結果"
   ]
  },
  {
   "cell_type": "code",
   "execution_count": 27,
   "metadata": {},
   "outputs": [
    {
     "data": {
      "text/plain": [
       "array([-1.14390157, -0.98930274, -0.98061332, ..., -1.08664574,\n",
       "       -1.07799135, -1.05788019])"
      ]
     },
     "execution_count": 27,
     "metadata": {},
     "output_type": "execute_result"
    }
   ],
   "source": [
    "fmean"
   ]
  },
  {
   "cell_type": "markdown",
   "metadata": {},
   "source": [
    "分散の結果"
   ]
  },
  {
   "cell_type": "code",
   "execution_count": 28,
   "metadata": {},
   "outputs": [
    {
     "data": {
      "text/plain": [
       "array([0.00099564, 0.00129194, 0.00144664, ..., 0.00118036, 0.00095491,\n",
       "       0.00165648])"
      ]
     },
     "execution_count": 28,
     "metadata": {},
     "output_type": "execute_result"
    }
   ],
   "source": [
    "fcov"
   ]
  },
  {
   "cell_type": "markdown",
   "metadata": {},
   "source": [
    "予測値の平均二乗誤差の出力"
   ]
  },
  {
   "cell_type": "code",
   "execution_count": 29,
   "metadata": {},
   "outputs": [
    {
     "data": {
      "text/plain": [
       "0.007159063044483804"
      ]
     },
     "execution_count": 29,
     "metadata": {},
     "output_type": "execute_result"
    }
   ],
   "source": [
    "np.mean((fmean-t_test)**2)"
   ]
  },
  {
   "cell_type": "code",
   "execution_count": null,
   "metadata": {},
   "outputs": [],
   "source": []
  }
 ],
 "metadata": {
  "kernelspec": {
   "display_name": "Python 2",
   "language": "python",
   "name": "python2"
  },
  "language_info": {
   "codemirror_mode": {
    "name": "ipython",
    "version": 2
   },
   "file_extension": ".py",
   "mimetype": "text/x-python",
   "name": "python",
   "nbconvert_exporter": "python",
   "pygments_lexer": "ipython2",
   "version": "2.7.16"
  }
 },
 "nbformat": 4,
 "nbformat_minor": 1
}
