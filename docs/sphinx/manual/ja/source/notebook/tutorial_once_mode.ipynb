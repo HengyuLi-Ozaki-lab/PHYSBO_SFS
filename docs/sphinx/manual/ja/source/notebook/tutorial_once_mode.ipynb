{
 "cells": [
  {
   "cell_type": "markdown",
   "metadata": {},
   "source": [
    "# 既存の計算結果を読み込んで実行する\n",
    "\n",
    "以下の流れで、既存のaction ID(パラメータ)とその評価値を読み込み、PHYSBO を実行することができます。\n",
    "\n",
    "1. 外部ファイルを読み込み、既存のaction ID(パラメータ)と評価値を読み込む。\n",
    "2. action ID(パラメータ)と評価値をPHYSBOに登録する。\n",
    "3. PHYSBO から次に実行するパラメータを得る。\n",
    "\n",
    "時間制限の関係上、PHYSBO をずっと開いたままにできないため、インタラクティブに実行できないといった場合に、利用することができます。\n",
    "\n",
    "## 探索候補データの準備\n",
    "\n",
    "これまでのマニュアルでも利用していたs5-210.csv を用いてガウス過程を実行します。"
   ]
  },
  {
   "cell_type": "code",
   "execution_count": 9,
   "metadata": {
    "ExecuteTime": {
     "end_time": "2020-12-04T06:17:28.657314Z",
     "start_time": "2020-12-04T06:17:27.967614Z"
    }
   },
   "outputs": [],
   "source": [
    "import physbo\n",
    "\n",
    "import numpy as np\n",
    "\n",
    "\n",
    "def load_data():\n",
    "    A =  np.asarray(np.loadtxt('data/s5-210.csv',skiprows=1, delimiter=',') )\n",
    "    X = A[:,0:3]\n",
    "    t  = -A[:,3]\n",
    "    return X, t\n",
    "\n",
    "X, t = load_data()\n",
    "X = physbo.misc.centering(X)"
   ]
  },
  {
   "cell_type": "markdown",
   "metadata": {},
   "source": [
    "## simulator の定義"
   ]
  },
  {
   "cell_type": "code",
   "execution_count": 10,
   "metadata": {
    "ExecuteTime": {
     "end_time": "2020-12-04T06:17:28.663215Z",
     "start_time": "2020-12-04T06:17:28.658656Z"
    }
   },
   "outputs": [],
   "source": [
    "class simulator:\n",
    "    def __init__( self ):\n",
    "        _, self.t = load_data()\n",
    "    \n",
    "    def __call__( self, action ):\n",
    "        return self.t[action]"
   ]
  },
  {
   "cell_type": "markdown",
   "metadata": {},
   "source": [
    "## 事前に計算したデータの用意\n",
    "\n",
    "上述のload_data関数では全てのXとtが格納されています。ここでは事前に計算したとして、actoin IDのリストをランダムに20個取得し、その評価値を得ます。"
   ]
  },
  {
   "cell_type": "code",
   "execution_count": 11,
   "metadata": {},
   "outputs": [
    {
     "name": "stdout",
     "output_type": "stream",
     "text": [
      "[14609, 6267, 15683, 7557, 4815, 1793, 8699, 17939, 5189, 12394, 6651, 9602, 1047, 1898, 13619, 16445, 8030, 6007, 2155, 17548]\n"
     ]
    }
   ],
   "source": [
    "import random\n",
    "calculated_ids = random.sample(range(t.size), 20)\n",
    "print(calculated_ids)\n",
    "t_initial = t[calculated_ids]"
   ]
  },
  {
   "cell_type": "markdown",
   "metadata": {},
   "source": [
    "## action ID(パラメータ)と評価値をPHYSBOに登録\n",
    "\n",
    "policyの初期変数initial_dataにcalculated_idsとt\\[calculated_ids\\]をリストとして登録します。"
   ]
  },
  {
   "cell_type": "code",
   "execution_count": 12,
   "metadata": {},
   "outputs": [],
   "source": [
    "# policy のセット \n",
    "policy = physbo.search.discrete.policy(test_X=X, initial_data=[calculated_ids, t_initial])\n",
    "\n",
    "# シード値のセット \n",
    "policy.set_seed( 0 )"
   ]
  },
  {
   "cell_type": "markdown",
   "metadata": {},
   "source": [
    "## PHYSBO から次に実行するパラメータを取得\n",
    "\n",
    "ベイズ最適化を行い、次の候補点を得ます。"
   ]
  },
  {
   "cell_type": "code",
   "execution_count": 8,
   "metadata": {
    "ExecuteTime": {
     "end_time": "2020-12-04T06:17:28.674407Z",
     "start_time": "2020-12-04T06:17:28.669875Z"
    }
   },
   "outputs": [
    {
     "name": "stdout",
     "output_type": "stream",
     "text": [
      "Start the initial hyper parameter searching ...\n",
      "Done\n",
      "\n",
      "Start the hyper parameter learning ...\n",
      "0 -th epoch marginal likelihood 11.060833585964595\n",
      "50 -th epoch marginal likelihood 5.561009734112506\n",
      "100 -th epoch marginal likelihood 2.1480684432568324\n",
      "150 -th epoch marginal likelihood -0.1527423111894528\n",
      "200 -th epoch marginal likelihood -1.752632762706206\n",
      "250 -th epoch marginal likelihood -2.8946877640854076\n",
      "300 -th epoch marginal likelihood -3.728762097404015\n",
      "350 -th epoch marginal likelihood -4.351070912776635\n",
      "400 -th epoch marginal likelihood -4.825494303893425\n",
      "450 -th epoch marginal likelihood -5.19560111865651\n",
      "500 -th epoch marginal likelihood -5.491744638300084\n",
      "Done\n",
      "\n",
      "[8599] [[ 1.28309838 -0.29277002 -0.28097574]]\n"
     ]
    }
   ],
   "source": [
    "actions = policy.bayes_search(max_num_probes=1, simulator=None, score=\"TS\", interval=0,  num_rand_basis = 5000)\n",
    "print(actions, X[actions])"
   ]
  },
  {
   "cell_type": "markdown",
   "metadata": {},
   "source": [
    "得られた候補点について外部で計算を行い、ファイルにactionsとそのスコアを登録する。再びファイルを読み込み、ベイズ最適化を実行し次の候補点を得るというプロセスを繰り返すことで、ベイズ最適化を進めることができます。"
   ]
  }
 ],
 "metadata": {
  "kernelspec": {
   "display_name": "Python 3",
   "language": "python",
   "name": "python3"
  },
  "language_info": {
   "codemirror_mode": {
    "name": "ipython",
    "version": 3
   },
   "file_extension": ".py",
   "mimetype": "text/x-python",
   "name": "python",
   "nbconvert_exporter": "python",
   "pygments_lexer": "ipython3",
   "version": "3.7.8"
  }
 },
 "nbformat": 4,
 "nbformat_minor": 1
}
