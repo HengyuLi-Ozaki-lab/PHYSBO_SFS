{
 "cells": [
  {
   "cell_type": "markdown",
   "metadata": {},
   "source": [
    "# 複数候補を一度に探索する\n",
    "\n",
    "1回の探索ステップで、2つ以上の候補を一度に評価する場合のチュートリアルです。\n",
    "\n",
    "## 探索候補データの準備"
   ]
  },
  {
   "cell_type": "code",
   "execution_count": 1,
   "metadata": {},
   "outputs": [],
   "source": [
    "import physbo\n",
    "\n",
    "import os\n",
    "import urllib\n",
    "import ssl\n",
    "import numpy as np\n",
    "import matplotlib.pyplot as plt\n",
    "%matplotlib inline\n",
    "\n",
    "ssl._create_default_https_context = ssl._create_unverified_context\n",
    "\n",
    "def download():\n",
    "    if not os.path.exists('data/s5-210.csv'):\n",
    "\n",
    "        if not os.path.exists('data'):\n",
    "            os.mkdir('data')\n",
    "            \n",
    "        print('Downloading...')\n",
    "        with urllib.request.urlopen(\"http://www.tsudalab.org/files/s5-210.csv\") as response, open('data/s5-210.csv', 'wb') as out_file:\n",
    "            out_file.write(response.read())\n",
    "        print('Done')\n",
    "        \n",
    "def load_data():\n",
    "    download()\n",
    "    A =  np.asarray(np.loadtxt('data/s5-210.csv',skiprows=1,delimiter=',') )\n",
    "    X = A[:,0:3]\n",
    "    t  = -A[:,3]\n",
    "    return X, t\n",
    "\n",
    "X, t = load_data()\n",
    "X = physbo.misc.centering( X )"
   ]
  },
  {
   "cell_type": "markdown",
   "metadata": {},
   "source": [
    "## simulator の定義\n",
    "\n",
    "後述の `num_search_each_probe` を2以上にした場合、action には action ID の array が入力されます。  \n",
    "各 action ID に対応した評価値のリストを返すように定義してください。\n",
    "\n",
    "基本チュートリアルと simulator の定義は同じですが、\n",
    "t は numpy.array であり、action に array が入力されると `self.t[action]` も array になる点に留意してください。"
   ]
  },
  {
   "cell_type": "code",
   "execution_count": 2,
   "metadata": {
    "collapsed": true
   },
   "outputs": [],
   "source": [
    "class simulator:\n",
    "    def __init__( self ):\n",
    "        _, self.t = load_data()\n",
    "    \n",
    "    def __call__( self, action ):\n",
    "        return self.t[action]"
   ]
  },
  {
   "cell_type": "markdown",
   "metadata": {},
   "source": [
    "simulator の実行例"
   ]
  },
  {
   "cell_type": "code",
   "execution_count": 3,
   "metadata": {},
   "outputs": [
    {
     "data": {
      "text/plain": [
       "array([-1.01487066, -1.22884748, -1.05572838])"
      ]
     },
     "execution_count": 3,
     "metadata": {},
     "output_type": "execute_result"
    }
   ],
   "source": [
    "sim = simulator()\n",
    "sim([1,12,123])"
   ]
  },
  {
   "cell_type": "markdown",
   "metadata": {},
   "source": [
    "## 最適化の実行"
   ]
  },
  {
   "cell_type": "code",
   "execution_count": 4,
   "metadata": {
    "collapsed": true
   },
   "outputs": [],
   "source": [
    "# policy のセット \n",
    "policy = physbo.search.discrete.policy(test_X=X)\n",
    "\n",
    "# シード値のセット \n",
    "policy.set_seed( 0 )"
   ]
  },
  {
   "cell_type": "markdown",
   "metadata": {},
   "source": [
    "`num_search_each_probe` によって、各探索ステップにおいて評価する候補数を指定することができます。\n",
    "\n",
    "下記の実行例だと、ランダムサーチにより 2 ×10 = 20回、ベイズ最適化により 8 ×10 = 80回 simulator を評価することになります。 \n",
    "\n",
    "**引数**  \n",
    "\n",
    "- `max_num_probes`: 探索ステップ数  \n",
    "- `num_search_each_probe`: 各探索ステップにおいて評価する候補数"
   ]
  },
  {
   "cell_type": "code",
   "execution_count": 5,
   "metadata": {},
   "outputs": [
    {
     "name": "stdout",
     "output_type": "stream",
     "text": [
      "0001-th multiple probe search (random) \n",
      "\n",
      "current best f(x) = -0.980054 (best action = 4547) \n",
      "list of simulation results\n",
      "f(x)=-1.070602 (action = 15673)\n",
      "f(x)=-1.009056 (action = 9559)\n",
      "f(x)=-1.195844 (action = 16927)\n",
      "f(x)=-0.980054 (action = 4547)\n",
      "f(x)=-0.992820 (action = 2553)\n",
      "f(x)=-1.146676 (action = 13144)\n",
      "f(x)=-1.006255 (action = 10827)\n",
      "f(x)=-0.999862 (action = 1995)\n",
      "f(x)=-1.055445 (action = 10763)\n",
      "f(x)=-1.100970 (action = 16450)\n",
      "\n",
      "\n",
      "0002-th multiple probe search (random) \n",
      "\n",
      "current best f(x) = -0.980054 (best action = 4547) \n",
      "list of simulation results\n",
      "f(x)=-1.208666 (action = 13085)\n",
      "f(x)=-1.069404 (action = 15133)\n",
      "f(x)=-1.031642 (action = 1706)\n",
      "f(x)=-1.016702 (action = 2464)\n",
      "f(x)=-1.172569 (action = 17812)\n",
      "f(x)=-1.082219 (action = 16533)\n",
      "f(x)=-1.025272 (action = 1336)\n",
      "f(x)=-1.031761 (action = 10076)\n",
      "f(x)=-0.984972 (action = 8876)\n",
      "f(x)=-1.107730 (action = 15577)\n",
      "\n",
      "\n",
      "Start the initial hyper parameter searching ...\n",
      "Done\n",
      "\n",
      "Start the hyper parameter learning ...\n",
      "0-th epoch, marginal likelihood -22.8397384798\n",
      "50-th epoch, marginal likelihood -24.1776171399\n",
      "100-th epoch, marginal likelihood -24.8310182858\n",
      "150-th epoch, marginal likelihood -25.1541614865\n",
      "200-th epoch, marginal likelihood -25.334465628\n",
      "250-th epoch, marginal likelihood -25.4551550106\n",
      "300-th epoch, marginal likelihood -25.5500914536\n",
      "350-th epoch, marginal likelihood -25.6313012793\n",
      "400-th epoch, marginal likelihood -25.7023874574\n",
      "450-th epoch, marginal likelihood -25.7643476773\n",
      "500-th epoch, marginal likelihood -25.8176978448\n",
      "Done\n",
      "\n",
      " Parameters of Gaussian kernel \n",
      " \n",
      " width  =  [ 3.]\n",
      " scale  =  1.0\n",
      " scale2 =  1.0\n",
      " \n",
      "\n",
      "0003-th multiple probe search (EI) \n",
      "\n",
      "current best f(x) = -0.965358 (best action = 7677) \n",
      "list of simulation results\n",
      "f(x)=-1.080313 (action = 8128)\n",
      "f(x)=-0.965358 (action = 7677)\n",
      "f(x)=-1.069888 (action = 6744)\n",
      "f(x)=-1.000745 (action = 5438)\n",
      "f(x)=-0.991714 (action = 5993)\n",
      "f(x)=-1.089947 (action = 11497)\n",
      "f(x)=-1.054229 (action = 1253)\n",
      "f(x)=-1.044660 (action = 4687)\n",
      "f(x)=-1.054012 (action = 5246)\n",
      "f(x)=-0.965678 (action = 5031)\n",
      "\n",
      "\n",
      "0004-th multiple probe search (EI) \n",
      "\n",
      "current best f(x) = -0.963138 (best action = 7308) \n",
      "list of simulation results\n",
      "f(x)=-0.974911 (action = 4698)\n",
      "f(x)=-1.019639 (action = 7893)\n",
      "f(x)=-0.963138 (action = 7308)\n",
      "f(x)=-1.112367 (action = 2822)\n",
      "f(x)=-0.977188 (action = 10857)\n",
      "f(x)=-1.019301 (action = 11987)\n",
      "f(x)=-1.283628 (action = 12002)\n",
      "f(x)=-0.991675 (action = 5957)\n",
      "f(x)=-1.042913 (action = 5968)\n",
      "f(x)=-1.052370 (action = 2417)\n",
      "\n",
      "\n",
      "Start the initial hyper parameter searching ...\n",
      "Done\n",
      "\n",
      "Start the hyper parameter learning ...\n",
      "0-th epoch, marginal likelihood -26.8714538233\n",
      "50-th epoch, marginal likelihood -37.8027227548\n",
      "100-th epoch, marginal likelihood -43.855579342\n",
      "150-th epoch, marginal likelihood -47.2782764098\n",
      "200-th epoch, marginal likelihood -49.3043259312\n",
      "250-th epoch, marginal likelihood -50.5533082362\n",
      "300-th epoch, marginal likelihood -51.3553624098\n",
      "350-th epoch, marginal likelihood -51.8949197366\n",
      "400-th epoch, marginal likelihood -52.2784266274\n",
      "450-th epoch, marginal likelihood -52.5685205529\n",
      "500-th epoch, marginal likelihood -52.8023267337\n",
      "Done\n",
      "\n",
      " Parameters of Gaussian kernel \n",
      " \n",
      " width  =  [ 0.66107133]\n",
      " scale  =  0.0763818155444\n",
      " scale2 =  0.00583418174586\n",
      " \n",
      "\n",
      "0005-th multiple probe search (EI) \n",
      "\n",
      "current best f(x) = -0.959371 (best action = 6568) \n",
      "list of simulation results\n",
      "f(x)=-0.959371 (action = 6568)\n",
      "f(x)=-1.000701 (action = 5402)\n",
      "f(x)=-1.030967 (action = 8959)\n",
      "f(x)=-0.996815 (action = 8990)\n",
      "f(x)=-1.147060 (action = 2988)\n",
      "f(x)=-1.017541 (action = 1569)\n",
      "f(x)=-1.030922 (action = 11955)\n",
      "f(x)=-1.057578 (action = 14948)\n",
      "f(x)=-2.497328 (action = 17945)\n",
      "f(x)=-1.052714 (action = 3354)\n",
      "\n",
      "\n",
      "0006-th multiple probe search (EI) \n",
      "\n",
      "current best f(x) = -0.959371 (best action = 6568) \n",
      "list of simulation results\n",
      "f(x)=-1.019266 (action = 11951)\n",
      "f(x)=-0.980103 (action = 11803)\n",
      "f(x)=-1.006127 (action = 11914)\n",
      "f(x)=-0.972223 (action = 11729)\n",
      "f(x)=-0.995306 (action = 11877)\n",
      "f(x)=-0.986690 (action = 11840)\n",
      "f(x)=-0.970528 (action = 11692)\n",
      "f(x)=-0.975350 (action = 11766)\n",
      "f(x)=-0.970126 (action = 11655)\n",
      "f(x)=-0.970962 (action = 11618)\n",
      "\n",
      "\n",
      "Start the initial hyper parameter searching ...\n",
      "Done\n",
      "\n",
      "Start the hyper parameter learning ...\n",
      "0-th epoch, marginal likelihood 35.3354252719\n",
      "50-th epoch, marginal likelihood 14.2299065256\n",
      "100-th epoch, marginal likelihood 1.02456828001\n",
      "150-th epoch, marginal likelihood -7.32509148332\n",
      "200-th epoch, marginal likelihood -12.8562946767\n",
      "250-th epoch, marginal likelihood -16.694972094\n",
      "300-th epoch, marginal likelihood -19.4617597393\n",
      "350-th epoch, marginal likelihood -21.5175279699\n",
      "400-th epoch, marginal likelihood -23.0870654426\n",
      "450-th epoch, marginal likelihood -24.3177295176\n",
      "500-th epoch, marginal likelihood -25.309311569\n",
      "Done\n",
      "\n",
      " Parameters of Gaussian kernel \n",
      " \n",
      " width  =  [ 0.68155656]\n",
      " scale  =  0.0893324574547\n",
      " scale2 =  0.00798028795489\n",
      " \n",
      "\n",
      "0007-th multiple probe search (EI) \n",
      "\n",
      "current best f(x) = -0.959371 (best action = 6568) \n",
      "list of simulation results\n",
      "f(x)=-1.005173 (action = 5703)\n",
      "f(x)=-1.006663 (action = 644)\n",
      "f(x)=-1.152294 (action = 17972)\n",
      "f(x)=-1.050983 (action = 11744)\n",
      "f(x)=-1.190144 (action = 17574)\n",
      "f(x)=-1.037930 (action = 6654)\n",
      "f(x)=-1.190036 (action = 3013)\n",
      "f(x)=-1.121365 (action = 15055)\n",
      "f(x)=-0.990606 (action = 259)\n",
      "f(x)=-1.004092 (action = 9065)\n",
      "\n",
      "\n",
      "0008-th multiple probe search (EI) \n",
      "\n",
      "current best f(x) = -0.959371 (best action = 6568) \n",
      "list of simulation results\n",
      "f(x)=-1.128809 (action = 562)\n",
      "f(x)=-2.972638 (action = 2997)\n",
      "f(x)=-1.012804 (action = 3942)\n",
      "f(x)=-0.997708 (action = 3033)\n",
      "f(x)=-0.977151 (action = 9768)\n",
      "f(x)=-1.031994 (action = 9027)\n",
      "f(x)=-0.974596 (action = 3700)\n",
      "f(x)=-1.339116 (action = 6020)\n",
      "f(x)=-1.052427 (action = 874)\n",
      "f(x)=-1.111318 (action = 9019)\n",
      "\n",
      "\n",
      "Start the initial hyper parameter searching ...\n",
      "Done\n",
      "\n",
      "Start the hyper parameter learning ...\n",
      "0-th epoch, marginal likelihood 266.32249839\n",
      "50-th epoch, marginal likelihood 193.096547139\n",
      "100-th epoch, marginal likelihood 139.653327724\n",
      "150-th epoch, marginal likelihood 106.43817708\n",
      "200-th epoch, marginal likelihood 81.5014195814\n",
      "250-th epoch, marginal likelihood 63.9607672776\n",
      "300-th epoch, marginal likelihood 50.7733595107\n",
      "350-th epoch, marginal likelihood 39.8111517454\n",
      "400-th epoch, marginal likelihood 31.2539770605\n",
      "450-th epoch, marginal likelihood 25.4641264947\n",
      "500-th epoch, marginal likelihood 21.0858783785\n",
      "Done\n",
      "\n",
      " Parameters of Gaussian kernel \n",
      " \n",
      " width  =  [ 0.65851045]\n",
      " scale  =  0.274289068186\n",
      " scale2 =  0.0752344929263\n",
      " \n",
      "\n",
      "0009-th multiple probe search (EI) \n",
      "\n",
      "current best f(x) = -0.959371 (best action = 6568) \n",
      "list of simulation results\n",
      "f(x)=-0.990406 (action = 814)\n",
      "f(x)=-0.990886 (action = 777)\n",
      "f(x)=-0.987157 (action = 4255)\n",
      "f(x)=-0.990490 (action = 851)\n",
      "f(x)=-0.992400 (action = 740)\n",
      "f(x)=-0.990630 (action = 888)\n",
      "f(x)=-2.621007 (action = 11988)\n",
      "f(x)=-0.979780 (action = 4292)\n",
      "f(x)=-0.995292 (action = 703)\n",
      "f(x)=-0.990543 (action = 925)\n",
      "\n",
      "\n",
      "0010-th multiple probe search (EI) \n",
      "\n",
      "current best f(x) = -0.959371 (best action = 6568) \n",
      "list of simulation results\n",
      "f(x)=-0.980782 (action = 6660)\n",
      "f(x)=-1.116958 (action = 15514)\n",
      "f(x)=-0.973061 (action = 6697)\n",
      "f(x)=-0.990375 (action = 6623)\n",
      "f(x)=-0.967112 (action = 6734)\n",
      "f(x)=-1.001885 (action = 6586)\n",
      "f(x)=-0.962783 (action = 6771)\n",
      "f(x)=-1.136805 (action = 15513)\n",
      "f(x)=-1.088962 (action = 15701)\n",
      "f(x)=-1.167181 (action = 15438)\n",
      "\n",
      "\n"
     ]
    }
   ],
   "source": [
    "res = policy.random_search(max_num_probes=2, num_search_each_probe=10, simulator=simulator())\n",
    "\n",
    "res = policy.bayes_search(max_num_probes=8, num_search_each_probe=10, simulator=simulator(), score='EI', \n",
    "                                                  interval=2, num_rand_basis=0)"
   ]
  },
  {
   "cell_type": "markdown",
   "metadata": {},
   "source": [
    "## 結果の確認"
   ]
  },
  {
   "cell_type": "code",
   "execution_count": 6,
   "metadata": {},
   "outputs": [
    {
     "data": {
      "text/plain": [
       "[<matplotlib.lines.Line2D at 0x92d1588>]"
      ]
     },
     "execution_count": 6,
     "metadata": {},
     "output_type": "execute_result"
    },
    {
     "data": {
      "image/png": "[encoded data removed]",
      "text/plain": [
       "<matplotlib.figure.Figure at 0x92a5860>"
      ]
     },
     "metadata": {},
     "output_type": "display_data"
    }
   ],
   "source": [
    "plt.plot(res.fx[0:res.total_num_search])"
   ]
  },
  {
   "cell_type": "code",
   "execution_count": 7,
   "metadata": {},
   "outputs": [
    {
     "data": {
      "text/plain": [
       "[<matplotlib.lines.Line2D at 0x968f358>]"
      ]
     },
     "execution_count": 7,
     "metadata": {},
     "output_type": "execute_result"
    },
    {
     "data": {
      "image/png": "[encoded data removed]",
      "text/plain": [
       "<matplotlib.figure.Figure at 0x5caecc0>"
      ]
     },
     "metadata": {},
     "output_type": "display_data"
    }
   ],
   "source": [
    "best_fx, best_action = res.export_all_sequence_best_fx()\n",
    "plt.plot(best_fx)"
   ]
  },
  {
   "cell_type": "markdown",
   "metadata": {},
   "source": [
    "`res.export_sequence_best_fx()` により、各ステップまでに得られたベスト値とその action の履歴 を得られます。  \n",
    "\n",
    "`res.export_all_sequence_best_fx()` との違いは、simulator の評価毎ではなく、探索ステップ毎の情報だという点です。  \n",
    "(今回の場合は合計ステップ数は 10, 評価数は 100 です）"
   ]
  },
  {
   "cell_type": "code",
   "execution_count": 8,
   "metadata": {},
   "outputs": [
    {
     "data": {
      "text/plain": [
       "[<matplotlib.lines.Line2D at 0x96d1fd0>]"
      ]
     },
     "execution_count": 8,
     "metadata": {},
     "output_type": "execute_result"
    },
    {
     "data": {
      "image/png": "[encoded data removed]",
      "text/plain": [
       "<matplotlib.figure.Figure at 0x9675048>"
      ]
     },
     "metadata": {},
     "output_type": "display_data"
    }
   ],
   "source": [
    "best_fx, best_action = res.export_sequence_best_fx()\n",
    "plt.plot(best_fx)"
   ]
  }
 ],
 "metadata": {
  "anaconda-cloud": {},
  "kernelspec": {
   "display_name": "Python 3",
   "language": "python",
   "name": "python3"
  },
  "language_info": {
   "codemirror_mode": {
    "name": "ipython",
    "version": 3
   },
   "file_extension": ".py",
   "mimetype": "text/x-python",
   "name": "python",
   "nbconvert_exporter": "python",
   "pygments_lexer": "ipython3",
   "version": "3.6.2"
  }
 },
 "nbformat": 4,
 "nbformat_minor": 1
}
